{
 "cells": [
  {
   "cell_type": "markdown",
   "metadata": {},
   "source": [
    "## Machine Learning for Neuroscience, <br>Department of Brain Sciences, Faculty of Medicine, <br> Imperial College London\n",
    "### Contributors: Payam Barnaghi, Francesca Palermo, Nan Fletcher-Lloyd, Alex Capstick, Yu Chen, Tianyu Cui, Marirena Bafaloukou, Ruxandra Mihai\n",
    "**Spring 2024**"
   ]
  },
  {
   "cell_type": "code",
   "execution_count": 1,
   "metadata": {},
   "outputs": [],
   "source": [
    "import numpy as np\n",
    "import matplotlib.pyplot as plt\n",
    "import matplotlib\n",
    "matplotlib.use('TkAgg')\n",
    "\n",
    "%matplotlib inline"
   ]
  },
  {
   "cell_type": "markdown",
   "metadata": {},
   "source": [
    "Number of sample"
   ]
  },
  {
   "cell_type": "code",
   "execution_count": 2,
   "metadata": {},
   "outputs": [],
   "source": [
    "n= 50"
   ]
  },
  {
   "cell_type": "code",
   "execution_count": 4,
   "metadata": {},
   "outputs": [
    {
     "data": {
      "text/plain": [
       "55"
      ]
     },
     "execution_count": 4,
     "metadata": {},
     "output_type": "execute_result"
    }
   ],
   "source": [
    "n +5"
   ]
  },
  {
   "cell_type": "markdown",
   "metadata": {},
   "source": [
    "Create a column vector for n samples. Make it as column using .reshape(-1,1)"
   ]
  },
  {
   "cell_type": "code",
   "execution_count": null,
   "metadata": {},
   "outputs": [],
   "source": []
  },
  {
   "cell_type": "code",
   "execution_count": 127,
   "metadata": {},
   "outputs": [],
   "source": [
    "XTest = np.linspace(-5, 5, n).reshape(-1,1)"
   ]
  },
  {
   "cell_type": "markdown",
   "metadata": {},
   "source": [
    "Defining a kernel fucntion. \n",
    "\n",
    "Here we use the Radial Basis Function kernel or the Gaussian kernel \n",
    "\n",
    "$k_{\\textrm{SE}}(x, x') = \\sigma^2\\exp\\left(-\\frac{(x - x')^2}{2\\ell^2}\\right)$\n",
    "\n",
    "\n",
    "The lengthscale ℓ determines the length of the 'wiggles' in your function. In general, you won't be able to extrapolate more than ℓ units away from your data.\n",
    "\n",
    "The output variance σ^2 determines the average distance of your function away from its mean. Every kernel has this parameter out in front; it's just a scale factor.\n",
    "\n",
    "Source and more information: https://www.cs.toronto.edu/~duvenaud/cookbook/"
   ]
  },
  {
   "cell_type": "code",
   "execution_count": 128,
   "metadata": {},
   "outputs": [],
   "source": [
    "def kernel (a, b, l, sigma):\n",
    "    sqdist = np.sum(a ** 2, 1).reshape(-1,1) + np.sum(b ** 2, 1) - 2 * np.dot(a, b.T)\n",
    "    return np.exp(-sigma *(1/l) * sqdist)"
   ]
  },
  {
   "cell_type": "markdown",
   "metadata": {},
   "source": [
    "Default parameters for the kernel function  "
   ]
  },
  {
   "cell_type": "code",
   "execution_count": 129,
   "metadata": {},
   "outputs": [],
   "source": [
    "l = 0.1\n",
    "sigma = 0.5"
   ]
  },
  {
   "cell_type": "markdown",
   "metadata": {},
   "source": [
    "Calclulate k**"
   ]
  },
  {
   "cell_type": "code",
   "execution_count": 130,
   "metadata": {},
   "outputs": [],
   "source": [
    "Kss = kernel (XTest, XTest, l, sigma)"
   ]
  },
  {
   "cell_type": "markdown",
   "metadata": {},
   "source": [
    "Choleski decomposition for K**  (K** = L * L.T)"
   ]
  },
  {
   "cell_type": "code",
   "execution_count": 131,
   "metadata": {},
   "outputs": [],
   "source": [
    "L = np.linalg.cholesky(Kss + 1e-15 *np.eye(n))"
   ]
  },
  {
   "cell_type": "markdown",
   "metadata": {},
   "source": [
    "x = mu + L N(0,I)  --> mu = 0 in this case"
   ]
  },
  {
   "cell_type": "code",
   "execution_count": 132,
   "metadata": {},
   "outputs": [],
   "source": [
    "f_prior = np.dot(L, np.random.normal(size=(n,1)))"
   ]
  },
  {
   "cell_type": "markdown",
   "metadata": {},
   "source": [
    "Training data"
   ]
  },
  {
   "cell_type": "code",
   "execution_count": 133,
   "metadata": {},
   "outputs": [],
   "source": [
    "XTrain = np.array([-4, -3.5, -3, -2.5, -2, -1.5, -1, -0.5, 0, 0.5, 3,5])\n",
    "\n",
    "XTrain = XTrain.reshape(len(XTrain), 1)"
   ]
  },
  {
   "cell_type": "code",
   "execution_count": 134,
   "metadata": {},
   "outputs": [
    {
     "data": {
      "text/plain": [
       "array([[-4. ],\n",
       "       [-3.5],\n",
       "       [-3. ],\n",
       "       [-2.5],\n",
       "       [-2. ],\n",
       "       [-1.5],\n",
       "       [-1. ],\n",
       "       [-0.5],\n",
       "       [ 0. ],\n",
       "       [ 0.5],\n",
       "       [ 3. ],\n",
       "       [ 5. ]])"
      ]
     },
     "execution_count": 134,
     "metadata": {},
     "output_type": "execute_result"
    }
   ],
   "source": [
    "XTrain"
   ]
  },
  {
   "cell_type": "code",
   "execution_count": 135,
   "metadata": {},
   "outputs": [],
   "source": [
    "yTrain = np.sin(XTrain) + np.random.uniform(-0.5, 0.5, 1)"
   ]
  },
  {
   "cell_type": "code",
   "execution_count": 136,
   "metadata": {},
   "outputs": [
    {
     "data": {
      "text/plain": [
       "array([[ 0.75999301],\n",
       "       [ 0.35397375],\n",
       "       [-0.13792949],\n",
       "       [-0.59528162],\n",
       "       [-0.90610691],\n",
       "       [-0.99430447],\n",
       "       [-0.83828047],\n",
       "       [-0.47623502],\n",
       "       [ 0.00319052],\n",
       "       [ 0.48261606],\n",
       "       [ 0.14431053],\n",
       "       [-0.95573376]])"
      ]
     },
     "execution_count": 136,
     "metadata": {},
     "output_type": "execute_result"
    }
   ],
   "source": [
    "yTrain"
   ]
  },
  {
   "cell_type": "code",
   "execution_count": 137,
   "metadata": {},
   "outputs": [],
   "source": [
    "K_y = kernel(XTrain, XTrain, l, sigma)"
   ]
  },
  {
   "cell_type": "markdown",
   "metadata": {},
   "source": [
    "$\\mu_* = k_*^{T} * K_y^{-1} * y $\n",
    "\n",
    "$K_y = L_k * L_k^{T}$ \n",
    "\n",
    "$\\alpha = K_y^{-1} *y = L^{-T} * L^{-1} * y$\n",
    "\n",
    "$ m = L^{-1} * y$\n",
    "\n",
    "$\\mu_* = k_*^{T} * L^{-T} * m$"
   ]
  },
  {
   "cell_type": "code",
   "execution_count": 138,
   "metadata": {},
   "outputs": [],
   "source": [
    "L_k = np.linalg.cholesky(K_y + 0.0005 * np.eye(len(XTrain)))"
   ]
  },
  {
   "cell_type": "code",
   "execution_count": 139,
   "metadata": {},
   "outputs": [],
   "source": [
    "Ks = kernel(XTrain, XTest, l, sigma)\n",
    "\n",
    "L = np.linalg.solve(L_k, Ks)"
   ]
  },
  {
   "cell_type": "code",
   "execution_count": 140,
   "metadata": {},
   "outputs": [],
   "source": [
    "mu = np.dot(L.T, np.linalg.solve(L_k, yTrain)).reshape((n,))"
   ]
  },
  {
   "cell_type": "code",
   "execution_count": 141,
   "metadata": {},
   "outputs": [],
   "source": [
    "sigma_square = np.diag(Kss) - np.sum(Lk ** 2, axis=0)"
   ]
  },
  {
   "cell_type": "code",
   "execution_count": 142,
   "metadata": {},
   "outputs": [],
   "source": [
    "sigma = np.sqrt(sigma_square)"
   ]
  },
  {
   "cell_type": "code",
   "execution_count": 143,
   "metadata": {},
   "outputs": [],
   "source": [
    "L = np.linalg.cholesky(Kss + 1e-16 * np.eye(n) - np.dot(Lk.T, Lk))"
   ]
  },
  {
   "cell_type": "code",
   "execution_count": 144,
   "metadata": {},
   "outputs": [],
   "source": [
    "f_post = mu.reshape(-1,1) + np.dot(L, np.random.normal(size=(n,1)))"
   ]
  },
  {
   "cell_type": "markdown",
   "metadata": {},
   "source": [
    "Plot the results"
   ]
  },
  {
   "cell_type": "code",
   "execution_count": 145,
   "metadata": {},
   "outputs": [
    {
     "data": {
      "image/png": "[encoded data removed]",
      "text/plain": [
       "<Figure size 432x288 with 1 Axes>"
      ]
     },
     "metadata": {
      "needs_background": "light"
     },
     "output_type": "display_data"
    }
   ],
   "source": [
    "plt.plot(XTrain, yTrain, 'bs', ms=8)\n",
    "plt.plot(XTest, f_post, 'g--')\n",
    "\n",
    "plt.gca().fill_between(XTest.flat, mu - 2 *sigma, mu + 2 *sigma, color='#dddddd')\n",
    "\n",
    "plt.plot(XTest, mu, 'r--', lw=2)\n",
    "\n",
    "plt.axis([-5, 5, -3, 3])\n",
    "\n",
    "plt.show()"
   ]
  },
  {
   "cell_type": "code",
   "execution_count": null,
   "metadata": {},
   "outputs": [],
   "source": []
  }
 ],
 "metadata": {
  "kernelspec": {
   "display_name": "Python 3",
   "language": "python",
   "name": "python3"
  },
  "language_info": {
   "codemirror_mode": {
    "name": "ipython",
    "version": 3
   },
   "file_extension": ".py",
   "mimetype": "text/x-python",
   "name": "python",
   "nbconvert_exporter": "python",
   "pygments_lexer": "ipython3",
   "version": "3.8.5"
  }
 },
 "nbformat": 4,
 "nbformat_minor": 4
}
