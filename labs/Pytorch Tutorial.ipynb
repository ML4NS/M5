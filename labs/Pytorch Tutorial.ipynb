{
 "cells": [
  {
   "cell_type": "markdown",
   "metadata": {},
   "source": [
    "## Machine Learning for Neuroscience, <br>Department of Brain Sciences, Faculty of Medicine, <br> Imperial College London\n",
    "### Contributors: Alex Capstick, Francesca Palermo, Nan Fletcher-Lloyd, Yu Chen, Tianyu Cui, Marirena Bafaloukou, Ruxandra Mihai, Payam Barnaghi\n",
    "**Spring 2024**\n"
   ]
  },
  {
   "cell_type": "markdown",
   "metadata": {},
   "source": [
    "# Pytorch"
   ]
  },
  {
   "cell_type": "code",
   "execution_count": 1,
   "metadata": {},
   "outputs": [],
   "source": [
    "import numpy as np\n",
    "import pandas as pd\n",
    "import tqdm\n",
    "\n",
    "import matplotlib.pyplot as plt\n",
    "\n",
    "import torch\n",
    "import torch.nn as nn\n",
    "import torch.nn.functional as F\n",
    "import torch.utils.data as torchdata\n",
    "\n",
    "import sklearn.metrics as skmetrics"
   ]
  },
  {
   "cell_type": "code",
   "execution_count": 2,
   "metadata": {},
   "outputs": [],
   "source": [
    "if torch.cuda.is_available():\n",
    "    device = torch.device(\"cuda\")\n",
    "\n",
    "# mps is for apple but is slower here\n",
    "#elif torch.backends.mps.is_available():\n",
    "#    device = torch.device(\"mps\")\n",
    "\n",
    "else:\n",
    "    device = torch.device(\"cpu\")"
   ]
  },
  {
   "cell_type": "code",
   "execution_count": 3,
   "metadata": {},
   "outputs": [
    {
     "data": {
      "text/plain": [
       "<torch._C.Generator at 0x13bd2eeb0>"
      ]
     },
     "execution_count": 3,
     "metadata": {},
     "output_type": "execute_result"
    }
   ],
   "source": [
    "torch.manual_seed(16)"
   ]
  },
  {
   "cell_type": "markdown",
   "metadata": {},
   "source": [
    "## What does pytorch do?"
   ]
  },
  {
   "cell_type": "markdown",
   "metadata": {},
   "source": [
    "The main point of pytorch is to provide a tensor library that can be used for automatic differentiation. This is useful for machine learning, where you want to compute gradients of a loss function with respect to the parameters of a model. Pytorch also provides a module for building neural networks, which is built on top of the tensor library."
   ]
  },
  {
   "cell_type": "markdown",
   "metadata": {},
   "source": [
    "In numpy:"
   ]
  },
  {
   "cell_type": "code",
   "execution_count": 4,
   "metadata": {},
   "outputs": [
    {
     "data": {
      "text/plain": [
       "array([1, 2, 3, 4])"
      ]
     },
     "execution_count": 4,
     "metadata": {},
     "output_type": "execute_result"
    }
   ],
   "source": [
    "x = np.array([1,2,3,4])\n",
    "x"
   ]
  },
  {
   "cell_type": "code",
   "execution_count": 5,
   "metadata": {},
   "outputs": [
    {
     "data": {
      "text/plain": [
       "array([2, 4, 6, 8])"
      ]
     },
     "execution_count": 5,
     "metadata": {},
     "output_type": "execute_result"
    }
   ],
   "source": [
    "x+x"
   ]
  },
  {
   "cell_type": "code",
   "execution_count": 6,
   "metadata": {},
   "outputs": [
    {
     "data": {
      "text/plain": [
       "array([2, 4, 6, 8])"
      ]
     },
     "execution_count": 6,
     "metadata": {},
     "output_type": "execute_result"
    }
   ],
   "source": [
    "2*x"
   ]
  },
  {
   "cell_type": "markdown",
   "metadata": {},
   "source": [
    "The same can be done in pytorch:"
   ]
  },
  {
   "cell_type": "code",
   "execution_count": 7,
   "metadata": {},
   "outputs": [],
   "source": [
    "t = torch.from_numpy(x)"
   ]
  },
  {
   "cell_type": "code",
   "execution_count": 8,
   "metadata": {},
   "outputs": [
    {
     "data": {
      "text/plain": [
       "tensor([2, 4, 6, 8])"
      ]
     },
     "execution_count": 8,
     "metadata": {},
     "output_type": "execute_result"
    }
   ],
   "source": [
    "t + t"
   ]
  },
  {
   "cell_type": "code",
   "execution_count": 9,
   "metadata": {},
   "outputs": [
    {
     "data": {
      "text/plain": [
       "tensor([2, 4, 6, 8])"
      ]
     },
     "execution_count": 9,
     "metadata": {},
     "output_type": "execute_result"
    }
   ],
   "source": [
    "2*t"
   ]
  },
  {
   "cell_type": "markdown",
   "metadata": {},
   "source": [
    "But the interesting part comes when we start to compute gradients. In numpy, we would have to write out the gradient function by hand.\n",
    "\n",
    "Let's say I want to times x by 2, then add 3, then square it, then sum it. To tell pytorch to do the automatic differentiation, we use the `requires_grad` flag.\n"
   ]
  },
  {
   "cell_type": "code",
   "execution_count": 10,
   "metadata": {},
   "outputs": [],
   "source": [
    "t = torch.from_numpy(x).float().requires_grad_(True)"
   ]
  },
  {
   "cell_type": "markdown",
   "metadata": {},
   "source": [
    "Times x by 2, then add 3, then square it, then sum it:"
   ]
  },
  {
   "cell_type": "code",
   "execution_count": 11,
   "metadata": {},
   "outputs": [
    {
     "data": {
      "text/plain": [
       "tensor(276., grad_fn=<SumBackward0>)"
      ]
     },
     "execution_count": 11,
     "metadata": {},
     "output_type": "execute_result"
    }
   ],
   "source": [
    "result = torch.sum(( 2*t + 3)**2)\n",
    "result"
   ]
  },
  {
   "cell_type": "markdown",
   "metadata": {},
   "source": [
    "Now watch! If we call `.backward()` on the output, it will compute the gradient of the output with respect to everything that has `requires_grad=True`."
   ]
  },
  {
   "cell_type": "code",
   "execution_count": 12,
   "metadata": {},
   "outputs": [],
   "source": [
    "result.backward()"
   ]
  },
  {
   "cell_type": "markdown",
   "metadata": {},
   "source": [
    "The gradients are stored in the `.grad` attribute of each tensor."
   ]
  },
  {
   "cell_type": "code",
   "execution_count": 13,
   "metadata": {},
   "outputs": [
    {
     "data": {
      "text/plain": [
       "tensor([20., 28., 36., 44.])"
      ]
     },
     "execution_count": 13,
     "metadata": {},
     "output_type": "execute_result"
    }
   ],
   "source": [
    "t.grad"
   ]
  },
  {
   "cell_type": "markdown",
   "metadata": {},
   "source": [
    "This is the basic idea, since it allows us to calculate the contributions of each parameter to the loss function, we can then use gradient descent to optimize the parameters."
   ]
  },
  {
   "cell_type": "markdown",
   "metadata": {},
   "source": [
    "## Loading Data:"
   ]
  },
  {
   "cell_type": "markdown",
   "metadata": {},
   "source": [
    "We need to be able to calculate the gradients of the loss with respect to the weights. We therefore need data to train our network on! Loading data in pytorch is easy. Here, we will use Sklearns `make_moons` function to generate some data."
   ]
  },
  {
   "cell_type": "markdown",
   "metadata": {},
   "source": [
    "Our fake data:"
   ]
  },
  {
   "cell_type": "code",
   "execution_count": 14,
   "metadata": {},
   "outputs": [],
   "source": [
    "from sklearn.datasets import make_moons"
   ]
  },
  {
   "cell_type": "code",
   "execution_count": 15,
   "metadata": {},
   "outputs": [],
   "source": [
    "X, y = make_moons(n_samples=10000, noise=0.1, random_state=42)"
   ]
  },
  {
   "cell_type": "code",
   "execution_count": 16,
   "metadata": {},
   "outputs": [
    {
     "data": {
      "text/plain": [
       "<matplotlib.collections.PathCollection at 0x150855ad0>"
      ]
     },
     "execution_count": 16,
     "metadata": {},
     "output_type": "execute_result"
    },
    {
     "data": {
      "image/png": "[encoded data removed]",
      "text/plain": [
       "<Figure size 640x480 with 1 Axes>"
      ]
     },
     "metadata": {},
     "output_type": "display_data"
    }
   ],
   "source": [
    "fig, ax = plt.subplots()\n",
    "ax.scatter(X[:,0], X[:,1], c=y, cmap='bwr', alpha=0.5)"
   ]
  },
  {
   "cell_type": "code",
   "execution_count": 17,
   "metadata": {},
   "outputs": [],
   "source": [
    "X_train, y_train = X[:8000], y[:8000]\n",
    "X_test, y_test = X[8000:], y[8000:]"
   ]
  },
  {
   "cell_type": "markdown",
   "metadata": {},
   "source": [
    "In Pytorch, we use a `Dataset` object to store our data. We can then use a `DataLoader` to iterate over the data in batches."
   ]
  },
  {
   "cell_type": "code",
   "execution_count": 18,
   "metadata": {},
   "outputs": [],
   "source": [
    "train_dataset = torchdata.TensorDataset(\n",
    "    torch.from_numpy(X_train).float(),\n",
    "    torch.from_numpy(y_train)\n",
    ")\n",
    "\n",
    "test_dataset = torchdata.TensorDataset(\n",
    "    torch.from_numpy(X_test).float(),\n",
    "    torch.from_numpy(y_test)\n",
    ")"
   ]
  },
  {
   "cell_type": "markdown",
   "metadata": {},
   "source": [
    "This wraps our data into a neat object that we can index to get our data. These classes can also be used to load data from disk, or from a database, as we will see later."
   ]
  },
  {
   "cell_type": "code",
   "execution_count": 19,
   "metadata": {},
   "outputs": [
    {
     "data": {
      "text/plain": [
       "(tensor([ 0.4555, -0.1255]), tensor(1))"
      ]
     },
     "execution_count": 19,
     "metadata": {},
     "output_type": "execute_result"
    }
   ],
   "source": [
    "train_dataset[0]\n",
    "# outputs a tuple of (X, y)"
   ]
  },
  {
   "cell_type": "markdown",
   "metadata": {},
   "source": [
    "There is also functionality in pytorch to load subsets from data, chain datasets, or sample from them. Below, we will create a validation set by random splitting the training dataset."
   ]
  },
  {
   "cell_type": "code",
   "execution_count": 20,
   "metadata": {},
   "outputs": [],
   "source": [
    "train_dataset, val_dataset = torchdata.random_split(train_dataset, [6000, 2000])"
   ]
  },
  {
   "cell_type": "code",
   "execution_count": 21,
   "metadata": {},
   "outputs": [
    {
     "name": "stdout",
     "output_type": "stream",
     "text": [
      "The length of the training dataset is 6000\n",
      "The length of the validation dataset is 2000\n"
     ]
    }
   ],
   "source": [
    "print(\"The length of the training dataset is\", len(train_dataset))\n",
    "print(\"The length of the validation dataset is\", len(val_dataset))"
   ]
  },
  {
   "cell_type": "markdown",
   "metadata": {},
   "source": [
    "Once we have done this, we can use the `DataLoader` to iterate over the data in batches. This is useful for training neural networks, as we can use stochastic gradient descent to train the network. For fun, we will add a weighted sampler to sample from the positive class twice as often."
   ]
  },
  {
   "cell_type": "code",
   "execution_count": 22,
   "metadata": {},
   "outputs": [],
   "source": [
    "train_targets = torch.tensor([y.item() for _, y in train_dataset])\n",
    "\n",
    "weights = torch.ones_like(train_targets, dtype=torch.float)\n",
    "weights = weights.masked_fill(train_targets == 1, 2)"
   ]
  },
  {
   "cell_type": "markdown",
   "metadata": {},
   "source": [
    "We can build a sampler:"
   ]
  },
  {
   "cell_type": "code",
   "execution_count": 23,
   "metadata": {},
   "outputs": [],
   "source": [
    "sampler = torchdata.WeightedRandomSampler(\n",
    "    weights, len(train_dataset), \n",
    "    replacement=True, \n",
    ")"
   ]
  },
  {
   "cell_type": "markdown",
   "metadata": {},
   "source": [
    "Since we set the replacement to true, and the number of samples to be the length of the dataset, we are getting a weighted bootstrap sample. We can then use this sampler to build a dataloader."
   ]
  },
  {
   "cell_type": "code",
   "execution_count": 24,
   "metadata": {},
   "outputs": [],
   "source": [
    "train_dl = torchdata.DataLoader(\n",
    "    train_dataset, batch_size=8, sampler=sampler\n",
    ")\n",
    "val_dl = torchdata.DataLoader(val_dataset, batch_size=8, shuffle=False)\n",
    "test_dl = torchdata.DataLoader(test_dataset, batch_size=8, shuffle=False)"
   ]
  },
  {
   "cell_type": "markdown",
   "metadata": {},
   "source": [
    "Since we set a sampler, we can't set shuffle to true. This is because the sampler is responsible for shuffling the data."
   ]
  },
  {
   "cell_type": "markdown",
   "metadata": {},
   "source": [
    "To get a batch of data, we can just iterate over the dataloader and break on the first iteration. By doing this we can look at our batch shapes:"
   ]
  },
  {
   "cell_type": "code",
   "execution_count": 25,
   "metadata": {},
   "outputs": [],
   "source": [
    "for b in train_dl:\n",
    "    break"
   ]
  },
  {
   "cell_type": "code",
   "execution_count": 26,
   "metadata": {},
   "outputs": [
    {
     "name": "stdout",
     "output_type": "stream",
     "text": [
      "The batch is a tuple of length 2\n",
      "The batch contains the following tensors:\n",
      "\tX: torch.Size([8, 2])\n",
      "\ty: torch.Size([8])\n"
     ]
    }
   ],
   "source": [
    "print(\"The batch is a tuple of length\", len(b))\n",
    "print(\"The batch contains the following tensors:\")\n",
    "print(\"\\tX:\", b[0].shape)\n",
    "print(\"\\ty:\", b[1].shape)"
   ]
  },
  {
   "cell_type": "markdown",
   "metadata": {},
   "source": [
    "## Building a neural network:"
   ]
  },
  {
   "cell_type": "markdown",
   "metadata": {},
   "source": [
    "Let's build a very simple Neural Network for this task so that we can see how loss functions, optimizers, and neural networks are built in pytorch."
   ]
  },
  {
   "cell_type": "markdown",
   "metadata": {},
   "source": [
    "To start, we need to think about our targets and how we want to measure our mistakes. Because this is a classification task, we will use [Cross Entropy Loss](https://en.wikipedia.org/wiki/Cross-entropy).\n",
    "\n",
    "Because this is a tutorial, we will define it from scrath. In practice, you would use the built in loss functions - namely here `torch.nn.CrossEntropyLoss`."
   ]
  },
  {
   "cell_type": "code",
   "execution_count": 27,
   "metadata": {},
   "outputs": [],
   "source": [
    "# you will learn about this loss later\n",
    "def cross_entropy(preds, targets):\n",
    "    preds = F.softmax(preds, dim=1)\n",
    "    return -(\n",
    "        torch.ones_like(targets) \n",
    "        * torch.log(\n",
    "            preds[torch.arange(len(targets)), targets]\n",
    "        )\n",
    "    )"
   ]
  },
  {
   "cell_type": "markdown",
   "metadata": {},
   "source": [
    "Let's test it against the built in loss function:"
   ]
  },
  {
   "cell_type": "code",
   "execution_count": 28,
   "metadata": {},
   "outputs": [],
   "source": [
    "logits = torch.tensor([[0.1, 0.9]])\n",
    "targets = torch.tensor([1])"
   ]
  },
  {
   "cell_type": "code",
   "execution_count": 29,
   "metadata": {},
   "outputs": [
    {
     "data": {
      "text/plain": [
       "tensor([0.3711])"
      ]
     },
     "execution_count": 29,
     "metadata": {},
     "output_type": "execute_result"
    }
   ],
   "source": [
    "# ours:\n",
    "cross_entropy(logits, targets)"
   ]
  },
  {
   "cell_type": "code",
   "execution_count": 30,
   "metadata": {},
   "outputs": [
    {
     "data": {
      "text/plain": [
       "tensor(0.3711)"
      ]
     },
     "execution_count": 30,
     "metadata": {},
     "output_type": "execute_result"
    }
   ],
   "source": [
    "# pytorch:\n",
    "F.cross_entropy(logits, targets)"
   ]
  },
  {
   "cell_type": "markdown",
   "metadata": {},
   "source": [
    "Yay! It works! Now we can build a neural network. We will build a simple feed forward network with 2 hidden layers. We will use the `torch.nn` module to build our network. We will see this in more detail later, but for now, we will just use the `torch.nn.Sequential` module to build our network."
   ]
  },
  {
   "cell_type": "code",
   "execution_count": 31,
   "metadata": {},
   "outputs": [],
   "source": [
    "net = nn.Sequential(\n",
    "    nn.Linear(2, 5),\n",
    "    nn.ReLU(),\n",
    "    nn.Linear(5, 2),\n",
    ")"
   ]
  },
  {
   "cell_type": "markdown",
   "metadata": {},
   "source": [
    "Now, if we put our batch through the model, we get:"
   ]
  },
  {
   "cell_type": "code",
   "execution_count": 32,
   "metadata": {},
   "outputs": [
    {
     "data": {
      "text/plain": [
       "tensor([[ 0.1991,  0.1789],\n",
       "        [ 0.1896,  0.1837],\n",
       "        [ 0.0416,  0.2584],\n",
       "        [-0.2201,  0.3905],\n",
       "        [ 0.0264,  0.2661],\n",
       "        [-0.2181,  0.3895],\n",
       "        [-0.1881,  0.3744],\n",
       "        [-0.1121,  0.3360]], grad_fn=<AddmmBackward0>)"
      ]
     },
     "execution_count": 32,
     "metadata": {},
     "output_type": "execute_result"
    }
   ],
   "source": [
    "net(b[0])"
   ]
  },
  {
   "cell_type": "markdown",
   "metadata": {},
   "source": [
    "But the true labels were:"
   ]
  },
  {
   "cell_type": "code",
   "execution_count": 33,
   "metadata": {},
   "outputs": [
    {
     "data": {
      "text/plain": [
       "tensor([0, 0, 1, 1, 0, 1, 1, 1])"
      ]
     },
     "execution_count": 33,
     "metadata": {},
     "output_type": "execute_result"
    }
   ],
   "source": [
    "b[1]"
   ]
  },
  {
   "cell_type": "markdown",
   "metadata": {},
   "source": [
    "If we take a softmax of the output, we can think about these as a probability distribution over the classes. The first column gives us the probability of the first class, and the second column gives us the probability of the second class. Here, we can take an argmax of the model to get the predicted classes."
   ]
  },
  {
   "cell_type": "code",
   "execution_count": 34,
   "metadata": {},
   "outputs": [
    {
     "data": {
      "text/plain": [
       "tensor([0, 0, 1, 1, 1, 1, 1, 1])"
      ]
     },
     "execution_count": 34,
     "metadata": {},
     "output_type": "execute_result"
    }
   ],
   "source": [
    "net(b[0]).softmax(dim=1).argmax(dim=1)"
   ]
  },
  {
   "cell_type": "markdown",
   "metadata": {},
   "source": [
    "Pretty bad so far... Let's see what the cross entropy loss is:"
   ]
  },
  {
   "cell_type": "code",
   "execution_count": 35,
   "metadata": {},
   "outputs": [],
   "source": [
    "y_pred_logits = net(b[0])"
   ]
  },
  {
   "cell_type": "code",
   "execution_count": 36,
   "metadata": {},
   "outputs": [
    {
     "data": {
      "text/plain": [
       "tensor([0, 0, 1, 1, 0, 1, 1, 1])"
      ]
     },
     "execution_count": 36,
     "metadata": {},
     "output_type": "execute_result"
    }
   ],
   "source": [
    "b[1]"
   ]
  },
  {
   "cell_type": "code",
   "execution_count": 37,
   "metadata": {},
   "outputs": [
    {
     "data": {
      "text/plain": [
       "tensor([0.6831, 0.6902, 0.5906, 0.4337, 0.8201, 0.4348, 0.4509, 0.4940],\n",
       "       grad_fn=<NegBackward0>)"
      ]
     },
     "execution_count": 37,
     "metadata": {},
     "output_type": "execute_result"
    }
   ],
   "source": [
    "loss = cross_entropy(\n",
    "    y_pred_logits,\n",
    "    b[1]\n",
    ")\n",
    "loss"
   ]
  },
  {
   "cell_type": "code",
   "execution_count": 38,
   "metadata": {},
   "outputs": [
    {
     "name": "stdout",
     "output_type": "stream",
     "text": [
      "the accuracy on the test set before training is 59.65%\n"
     ]
    }
   ],
   "source": [
    "correct = 0\n",
    "total = 0\n",
    "\n",
    "for b in test_dl:\n",
    "    # get the predictions\n",
    "    test_logits = net(b[0])\n",
    "    test_preds = test_logits.softmax(dim=1).argmax(dim=1)\n",
    "\n",
    "    # update the counts\n",
    "    correct += (test_preds == b[1]).sum().item()\n",
    "    total += len(b[1])\n",
    "\n",
    "print(\"the accuracy on the test set before training is\", f\"{correct/total*100:.2f}%\")"
   ]
  },
  {
   "cell_type": "markdown",
   "metadata": {},
   "source": [
    "Now this is where the magic happens. Let's say we now want to calculate the gradient of the loss with respect to the weights in our model. We can do this by calling `.backward()` on the loss. Except that we need to calculate the mean or sum of our losses over our batch first, since we can only calculate the gradient of a scalar with respect to a vector."
   ]
  },
  {
   "cell_type": "code",
   "execution_count": 39,
   "metadata": {},
   "outputs": [
    {
     "data": {
      "text/plain": [
       "tensor(0.5747, grad_fn=<MeanBackward0>)"
      ]
     },
     "execution_count": 39,
     "metadata": {},
     "output_type": "execute_result"
    }
   ],
   "source": [
    "loss = loss.mean()\n",
    "loss"
   ]
  },
  {
   "cell_type": "markdown",
   "metadata": {},
   "source": [
    "And gradients!"
   ]
  },
  {
   "cell_type": "code",
   "execution_count": 40,
   "metadata": {},
   "outputs": [],
   "source": [
    "loss.backward()"
   ]
  },
  {
   "cell_type": "markdown",
   "metadata": {},
   "source": [
    "What did this do? Well, if we look at the weights of our `net`, we can see they now have gradients:"
   ]
  },
  {
   "cell_type": "code",
   "execution_count": 41,
   "metadata": {},
   "outputs": [
    {
     "name": "stdout",
     "output_type": "stream",
     "text": [
      "name: 0.weight \n",
      "parameters: Parameter containing:\n",
      "tensor([[-0.6771, -0.6952],\n",
      "        [-0.0807, -0.0956],\n",
      "        [ 0.1137, -0.2895],\n",
      "        [ 0.2879, -0.2602],\n",
      "        [-0.1124,  0.4764]], requires_grad=True) \n",
      "gradients: tensor([[ 0.0000,  0.0000],\n",
      "        [ 0.0000,  0.0000],\n",
      "        [ 0.0000,  0.0000],\n",
      "        [-0.1999,  0.1156],\n",
      "        [ 0.0000,  0.0000]])\n",
      "----\n",
      "name: 0.bias \n",
      "parameters: Parameter containing:\n",
      "tensor([-0.2907, -0.6382, -0.5393,  0.4584, -0.6889], requires_grad=True) \n",
      "gradients: tensor([ 0.0000,  0.0000,  0.0000, -0.0289,  0.0000])\n",
      "----\n",
      "name: 2.weight \n",
      "parameters: Parameter containing:\n",
      "tensor([[-0.3639, -0.0545, -0.1293, -0.4384,  0.3091],\n",
      "        [ 0.0206, -0.0974,  0.0895,  0.2213,  0.2163]], requires_grad=True) \n",
      "gradients: tensor([[ 0.0000,  0.0000,  0.0000,  0.1529,  0.0000],\n",
      "        [ 0.0000,  0.0000,  0.0000, -0.1529,  0.0000]])\n",
      "----\n",
      "name: 2.bias \n",
      "parameters: Parameter containing:\n",
      "tensor([0.2302, 0.1632], requires_grad=True) \n",
      "gradients: tensor([ 0.0438, -0.0438])\n",
      "----\n"
     ]
    }
   ],
   "source": [
    "for n, p in net.named_parameters():\n",
    "    print('name:', n, '\\nparameters:', p, '\\ngradients:', p.grad)\n",
    "    print('----')"
   ]
  },
  {
   "cell_type": "markdown",
   "metadata": {},
   "source": [
    "How do we use these gradients to update our weights? We use an optimizer! Pytorch has a number of optimizers built in, but we will use the simplest one - Stochastic Gradient Descent."
   ]
  },
  {
   "cell_type": "markdown",
   "metadata": {},
   "source": [
    "Let's do this again. We start by setting the gradients to zero, then we calculate the loss on a batch, then we call `.backward()` on the loss, then we call `.step()` on the optimizer. We will also pass everything to the device, whichever is available!"
   ]
  },
  {
   "cell_type": "code",
   "execution_count": 42,
   "metadata": {},
   "outputs": [
    {
     "data": {
      "text/plain": [
       "Sequential(\n",
       "  (0): Linear(in_features=2, out_features=5, bias=True)\n",
       "  (1): ReLU()\n",
       "  (2): Linear(in_features=5, out_features=2, bias=True)\n",
       ")"
      ]
     },
     "execution_count": 42,
     "metadata": {},
     "output_type": "execute_result"
    }
   ],
   "source": [
    "net = nn.Sequential(\n",
    "    nn.Linear(2, 5),\n",
    "    nn.ReLU(),\n",
    "    nn.Linear(5, 2),\n",
    ")\n",
    "net.to(device)"
   ]
  },
  {
   "cell_type": "code",
   "execution_count": 43,
   "metadata": {},
   "outputs": [],
   "source": [
    "optimiser = torch.optim.SGD(net.parameters(), lr=0.01)"
   ]
  },
  {
   "cell_type": "code",
   "execution_count": 44,
   "metadata": {},
   "outputs": [],
   "source": [
    "optimiser.zero_grad()"
   ]
  },
  {
   "cell_type": "code",
   "execution_count": 45,
   "metadata": {},
   "outputs": [
    {
     "data": {
      "text/plain": [
       "tensor(0.7397, grad_fn=<MeanBackward0>)"
      ]
     },
     "execution_count": 45,
     "metadata": {},
     "output_type": "execute_result"
    }
   ],
   "source": [
    "loss = cross_entropy(\n",
    "    net(b[0].to(device)),\n",
    "    b[1].to(device)\n",
    ").mean()\n",
    "loss"
   ]
  },
  {
   "cell_type": "markdown",
   "metadata": {},
   "source": [
    "Currently no gradients:"
   ]
  },
  {
   "cell_type": "code",
   "execution_count": 46,
   "metadata": {},
   "outputs": [
    {
     "name": "stdout",
     "output_type": "stream",
     "text": [
      "name: 0.weight \n",
      "parameters: Parameter containing:\n",
      "tensor([[-0.3563, -0.4552],\n",
      "        [ 0.2094,  0.2204],\n",
      "        [ 0.4883, -0.4102],\n",
      "        [ 0.2901, -0.0184],\n",
      "        [ 0.2303,  0.4271]], requires_grad=True) \n",
      "gradients: None\n",
      "----\n",
      "name: 0.bias \n",
      "parameters: Parameter containing:\n",
      "tensor([-0.1609,  0.6199, -0.1208,  0.1880, -0.6537], requires_grad=True) \n",
      "gradients: None\n",
      "----\n",
      "name: 2.weight \n",
      "parameters: Parameter containing:\n",
      "tensor([[ 0.1942,  0.4437, -0.1197,  0.4207,  0.4257],\n",
      "        [ 0.2550,  0.3639, -0.4416,  0.2399,  0.1330]], requires_grad=True) \n",
      "gradients: None\n",
      "----\n",
      "name: 2.bias \n",
      "parameters: Parameter containing:\n",
      "tensor([0.2364, 0.1105], requires_grad=True) \n",
      "gradients: None\n",
      "----\n"
     ]
    }
   ],
   "source": [
    "for n, p in net.named_parameters():\n",
    "    print('name:', n, '\\nparameters:', p, '\\ngradients:', p.grad)\n",
    "    print('----')"
   ]
  },
  {
   "cell_type": "code",
   "execution_count": 47,
   "metadata": {},
   "outputs": [],
   "source": [
    "loss.backward()"
   ]
  },
  {
   "cell_type": "markdown",
   "metadata": {},
   "source": [
    "Now gradients:"
   ]
  },
  {
   "cell_type": "code",
   "execution_count": 48,
   "metadata": {},
   "outputs": [
    {
     "name": "stdout",
     "output_type": "stream",
     "text": [
      "name: 0.weight \n",
      "parameters: Parameter containing:\n",
      "tensor([[-0.3563, -0.4552],\n",
      "        [ 0.2094,  0.2204],\n",
      "        [ 0.4883, -0.4102],\n",
      "        [ 0.2901, -0.0184],\n",
      "        [ 0.2303,  0.4271]], requires_grad=True) \n",
      "gradients: tensor([[ 0.0000,  0.0000],\n",
      "        [ 0.0070, -0.0040],\n",
      "        [ 0.0060, -0.0270],\n",
      "        [ 0.0058, -0.0044],\n",
      "        [ 0.0000,  0.0000]])\n",
      "----\n",
      "name: 0.bias \n",
      "parameters: Parameter containing:\n",
      "tensor([-0.1609,  0.6199, -0.1208,  0.1880, -0.6537], requires_grad=True) \n",
      "gradients: tensor([0.0000, 0.0155, 0.0140, 0.0455, 0.0000])\n",
      "----\n",
      "name: 2.weight \n",
      "parameters: Parameter containing:\n",
      "tensor([[ 0.1942,  0.4437, -0.1197,  0.4207,  0.4257],\n",
      "        [ 0.2550,  0.3639, -0.4416,  0.2399,  0.1330]], requires_grad=True) \n",
      "gradients: tensor([[ 0.0000,  0.1275,  0.0382,  0.0570,  0.0000],\n",
      "        [ 0.0000, -0.1275, -0.0382, -0.0570,  0.0000]])\n",
      "----\n",
      "name: 2.bias \n",
      "parameters: Parameter containing:\n",
      "tensor([0.2364, 0.1105], requires_grad=True) \n",
      "gradients: tensor([ 0.1940, -0.1940])\n",
      "----\n"
     ]
    }
   ],
   "source": [
    "for n, p in net.named_parameters():\n",
    "    print('name:', n, '\\nparameters:', p, '\\ngradients:', p.grad)\n",
    "    print('----')"
   ]
  },
  {
   "cell_type": "markdown",
   "metadata": {},
   "source": [
    "Now we take a step:"
   ]
  },
  {
   "cell_type": "code",
   "execution_count": 49,
   "metadata": {},
   "outputs": [],
   "source": [
    "optimiser.step()"
   ]
  },
  {
   "cell_type": "code",
   "execution_count": 50,
   "metadata": {},
   "outputs": [
    {
     "name": "stdout",
     "output_type": "stream",
     "text": [
      "name: 0.weight \n",
      "parameters: Parameter containing:\n",
      "tensor([[-0.3563, -0.4552],\n",
      "        [ 0.2094,  0.2205],\n",
      "        [ 0.4883, -0.4099],\n",
      "        [ 0.2901, -0.0184],\n",
      "        [ 0.2303,  0.4271]], requires_grad=True) \n",
      "gradients: tensor([[ 0.0000,  0.0000],\n",
      "        [ 0.0070, -0.0040],\n",
      "        [ 0.0060, -0.0270],\n",
      "        [ 0.0058, -0.0044],\n",
      "        [ 0.0000,  0.0000]])\n",
      "----\n",
      "name: 0.bias \n",
      "parameters: Parameter containing:\n",
      "tensor([-0.1609,  0.6198, -0.1210,  0.1875, -0.6537], requires_grad=True) \n",
      "gradients: tensor([0.0000, 0.0155, 0.0140, 0.0455, 0.0000])\n",
      "----\n",
      "name: 2.weight \n",
      "parameters: Parameter containing:\n",
      "tensor([[ 0.1942,  0.4424, -0.1200,  0.4202,  0.4257],\n",
      "        [ 0.2550,  0.3652, -0.4413,  0.2404,  0.1330]], requires_grad=True) \n",
      "gradients: tensor([[ 0.0000,  0.1275,  0.0382,  0.0570,  0.0000],\n",
      "        [ 0.0000, -0.1275, -0.0382, -0.0570,  0.0000]])\n",
      "----\n",
      "name: 2.bias \n",
      "parameters: Parameter containing:\n",
      "tensor([0.2345, 0.1125], requires_grad=True) \n",
      "gradients: tensor([ 0.1940, -0.1940])\n",
      "----\n"
     ]
    }
   ],
   "source": [
    "for n, p in net.named_parameters():\n",
    "    print('name:', n, '\\nparameters:', p, '\\ngradients:', p.grad)\n",
    "    print('----')"
   ]
  },
  {
   "cell_type": "markdown",
   "metadata": {},
   "source": [
    "Since our learning rate is small, we don't see much change. Let's do this a few more times:"
   ]
  },
  {
   "cell_type": "code",
   "execution_count": 51,
   "metadata": {},
   "outputs": [
    {
     "name": "stderr",
     "output_type": "stream",
     "text": [
      "Training:   0%|          | 271/100000 [00:00<01:10, 1413.94update/s]"
     ]
    },
    {
     "name": "stdout",
     "output_type": "stream",
     "text": [
      "Mean of Validation loss at update 0 is 6.00\n"
     ]
    },
    {
     "name": "stderr",
     "output_type": "stream",
     "text": [
      "Training:  10%|█         | 10294/100000 [00:05<00:49, 1814.26update/s]"
     ]
    },
    {
     "name": "stdout",
     "output_type": "stream",
     "text": [
      "Mean of Validation loss at update 10000 is 0.62\n"
     ]
    },
    {
     "name": "stderr",
     "output_type": "stream",
     "text": [
      "Training:  20%|██        | 20348/100000 [00:11<00:43, 1831.79update/s]"
     ]
    },
    {
     "name": "stdout",
     "output_type": "stream",
     "text": [
      "Mean of Validation loss at update 20000 is 0.24\n"
     ]
    },
    {
     "name": "stderr",
     "output_type": "stream",
     "text": [
      "Training:  30%|███       | 30246/100000 [00:16<00:40, 1743.25update/s]"
     ]
    },
    {
     "name": "stdout",
     "output_type": "stream",
     "text": [
      "Mean of Validation loss at update 30000 is 0.20\n"
     ]
    },
    {
     "name": "stderr",
     "output_type": "stream",
     "text": [
      "Training:  40%|████      | 40349/100000 [00:22<00:34, 1711.95update/s]"
     ]
    },
    {
     "name": "stdout",
     "output_type": "stream",
     "text": [
      "Mean of Validation loss at update 40000 is 0.20\n"
     ]
    },
    {
     "name": "stderr",
     "output_type": "stream",
     "text": [
      "Training:  50%|█████     | 50268/100000 [00:27<00:27, 1808.54update/s]"
     ]
    },
    {
     "name": "stdout",
     "output_type": "stream",
     "text": [
      "Mean of Validation loss at update 50000 is 0.19\n"
     ]
    },
    {
     "name": "stderr",
     "output_type": "stream",
     "text": [
      "Training:  60%|██████    | 60204/100000 [00:33<00:32, 1219.06update/s]"
     ]
    },
    {
     "name": "stdout",
     "output_type": "stream",
     "text": [
      "Mean of Validation loss at update 60000 is 0.19\n"
     ]
    },
    {
     "name": "stderr",
     "output_type": "stream",
     "text": [
      "Training:  70%|███████   | 70241/100000 [00:39<00:16, 1797.96update/s]"
     ]
    },
    {
     "name": "stdout",
     "output_type": "stream",
     "text": [
      "Mean of Validation loss at update 70000 is 0.18\n"
     ]
    },
    {
     "name": "stderr",
     "output_type": "stream",
     "text": [
      "Training:  80%|████████  | 80317/100000 [00:45<00:11, 1752.89update/s]"
     ]
    },
    {
     "name": "stdout",
     "output_type": "stream",
     "text": [
      "Mean of Validation loss at update 80000 is 0.15\n"
     ]
    },
    {
     "name": "stderr",
     "output_type": "stream",
     "text": [
      "Training:  90%|█████████ | 90170/100000 [00:50<00:05, 1740.40update/s]"
     ]
    },
    {
     "name": "stdout",
     "output_type": "stream",
     "text": [
      "Mean of Validation loss at update 90000 is 0.18\n"
     ]
    },
    {
     "name": "stderr",
     "output_type": "stream",
     "text": [
      "Training: 100%|██████████| 100000/100000 [00:56<00:00, 1777.01update/s]\n"
     ]
    }
   ],
   "source": [
    "n_updates = 100000\n",
    "\n",
    "# remove old pbars if they exist\n",
    "tqdm.tqdm._instances.clear()\n",
    "\n",
    "val_loss_dict = {}\n",
    "\n",
    "# iterating over the number of updates\n",
    "for i in tqdm.trange(n_updates, desc=\"Training\", unit=\"update\"):\n",
    "    \n",
    "    # next batch\n",
    "    b = next(iter(train_dl))\n",
    "\n",
    "    # zero the gradients\n",
    "    optimiser.zero_grad()\n",
    "\n",
    "    # forward pass\n",
    "    loss = cross_entropy(\n",
    "        net(b[0].to(device)),\n",
    "        b[1].to(device)\n",
    "    ).mean()\n",
    "    \n",
    "    # backward pass\n",
    "    loss.backward()\n",
    "\n",
    "    # update the weights\n",
    "    optimiser.step()\n",
    "\n",
    "    # print the loss and val loss every 10000 steps\n",
    "    if i % 10000 == 0:\n",
    "        \n",
    "        n_points = 0\n",
    "        # calculate the val loss\n",
    "        for b in val_dl:\n",
    "            val_loss = cross_entropy(\n",
    "                net(b[0].to(device)),\n",
    "                b[1].to(device)\n",
    "            ).sum()\n",
    "\n",
    "            n_points += len(b[1])\n",
    "\n",
    "        val_loss_dict[i] = val_loss.item()/n_points\n",
    "        \n",
    "        print(\"Mean of Validation loss at update\", i, \"is\", f\"{val_loss.item():.2f}\")"
   ]
  },
  {
   "cell_type": "markdown",
   "metadata": {},
   "source": [
    "Let us look at the loss over time:"
   ]
  },
  {
   "cell_type": "code",
   "execution_count": 52,
   "metadata": {},
   "outputs": [
    {
     "data": {
      "text/plain": [
       "Text(0.5, 1.0, 'Validation Loss Over Time')"
      ]
     },
     "execution_count": 52,
     "metadata": {},
     "output_type": "execute_result"
    },
    {
     "data": {
      "image/png": "[encoded data removed]",
      "text/plain": [
       "<Figure size 640x480 with 1 Axes>"
      ]
     },
     "metadata": {},
     "output_type": "display_data"
    }
   ],
   "source": [
    "fig, ax = plt.subplots()\n",
    "\n",
    "ax.plot(\n",
    "    list(val_loss_dict.keys()),\n",
    "    list(val_loss_dict.values()),\n",
    "    label=\"val\"\n",
    ")\n",
    "\n",
    "ax.set_xlabel(\"Update\")\n",
    "ax.set_ylabel(\"Loss\")\n",
    "ax.legend()\n",
    "ax.set_title(\"Validation Loss Over Time\")"
   ]
  },
  {
   "cell_type": "markdown",
   "metadata": {},
   "source": [
    "Let's calculate the accuracy over the test set:"
   ]
  },
  {
   "cell_type": "code",
   "execution_count": 53,
   "metadata": {},
   "outputs": [
    {
     "name": "stdout",
     "output_type": "stream",
     "text": [
      "the accuracy on the test set after training is 97.95%\n"
     ]
    }
   ],
   "source": [
    "correct = 0\n",
    "total = 0\n",
    "\n",
    "for b in test_dl:\n",
    "    # get the predictions\n",
    "    test_logits = net(b[0].to(device))\n",
    "    test_preds = test_logits.softmax(dim=1).argmax(dim=1)\n",
    "\n",
    "    # update the counts\n",
    "    correct += (test_preds == b[1].to(device)).sum().item()\n",
    "    total += len(b[1])\n",
    "\n",
    "print(\"the accuracy on the test set after training is\", f\"{correct/total*100:.2f}%\")"
   ]
  },
  {
   "cell_type": "markdown",
   "metadata": {},
   "source": [
    "As we can see, our model is not that bad, and it is relatively simple, only containg a few parameters"
   ]
  },
  {
   "cell_type": "code",
   "execution_count": 54,
   "metadata": {},
   "outputs": [
    {
     "name": "stdout",
     "output_type": "stream",
     "text": [
      "name: 0.weight \n",
      "parameters: 10\n",
      "----\n",
      "name: 0.bias \n",
      "parameters: 5\n",
      "----\n",
      "name: 2.weight \n",
      "parameters: 10\n",
      "----\n",
      "name: 2.bias \n",
      "parameters: 2\n",
      "----\n",
      "The total number of parameters in the network is 27\n"
     ]
    }
   ],
   "source": [
    "num_params = 0\n",
    "\n",
    "# iterate over the parameters\n",
    "for n, p in net.named_parameters():\n",
    "    num_params += p.numel()\n",
    "    print('name:', n, '\\nparameters:', p.numel())\n",
    "    print('----')\n",
    "\n",
    "print(\"The total number of parameters in the network is\", num_params)"
   ]
  },
  {
   "cell_type": "markdown",
   "metadata": {},
   "source": [
    "We can also use some sklearn functions to view the decision boundary. Although this is less meaningful when your number of dimensions increases."
   ]
  },
  {
   "cell_type": "code",
   "execution_count": 55,
   "metadata": {},
   "outputs": [],
   "source": [
    "x_lims = X[:,0].min(), X[:,0].max()\n",
    "y_lims = X[:,1].min(), X[:,1].max()\n",
    "\n",
    "xx0, xx1 = torch.meshgrid(torch.linspace(*x_lims,steps=101), torch.linspace(*y_lims,steps=101), indexing='ij')"
   ]
  },
  {
   "cell_type": "code",
   "execution_count": 56,
   "metadata": {},
   "outputs": [],
   "source": [
    "y_proba = net(\n",
    "    torch.stack([xx0.reshape(-1), xx1.reshape(-1)], dim=1).to(device)\n",
    ").softmax(dim=1).detach().cpu().numpy()"
   ]
  },
  {
   "cell_type": "code",
   "execution_count": 57,
   "metadata": {},
   "outputs": [],
   "source": [
    "from sklearn.inspection import DecisionBoundaryDisplay"
   ]
  },
  {
   "cell_type": "code",
   "execution_count": 58,
   "metadata": {},
   "outputs": [
    {
     "data": {
      "text/plain": [
       "<matplotlib.collections.PathCollection at 0x168460b90>"
      ]
     },
     "execution_count": 58,
     "metadata": {},
     "output_type": "execute_result"
    },
    {
     "data": {
      "image/png": "[encoded data removed]",
      "text/plain": [
       "<Figure size 640x480 with 1 Axes>"
      ]
     },
     "metadata": {},
     "output_type": "display_data"
    }
   ],
   "source": [
    "fig, ax = plt.subplots()\n",
    "\n",
    "ax = DecisionBoundaryDisplay(\n",
    "    xx0=xx0.detach().numpy(),\n",
    "    xx1=xx1.detach().numpy(),\n",
    "    response=y_proba[:,1].reshape(xx0.shape)\n",
    ").plot(ax=ax, alpha=0.5, cmap='bwr').ax_\n",
    "\n",
    "ax.scatter(X[:,0], X[:,1], c=y, cmap='bwr', alpha=0.5)"
   ]
  },
  {
   "cell_type": "code",
   "execution_count": null,
   "metadata": {},
   "outputs": [],
   "source": []
  },
  {
   "cell_type": "markdown",
   "metadata": {},
   "source": [
    "## Bonus: Using Hugging Face"
   ]
  },
  {
   "cell_type": "code",
   "execution_count": 59,
   "metadata": {},
   "outputs": [
    {
     "name": "stderr",
     "output_type": "stream",
     "text": [
      "/opt/miniconda3/envs/ml4ns/lib/python3.11/site-packages/tqdm/auto.py:21: TqdmWarning: IProgress not found. Please update jupyter and ipywidgets. See https://ipywidgets.readthedocs.io/en/stable/user_install.html\n",
      "  from .autonotebook import tqdm as notebook_tqdm\n"
     ]
    }
   ],
   "source": [
    "import transformers"
   ]
  },
  {
   "cell_type": "code",
   "execution_count": null,
   "metadata": {},
   "outputs": [],
   "source": []
  },
  {
   "cell_type": "code",
   "execution_count": null,
   "metadata": {},
   "outputs": [],
   "source": []
  },
  {
   "cell_type": "code",
   "execution_count": null,
   "metadata": {},
   "outputs": [],
   "source": []
  },
  {
   "cell_type": "code",
   "execution_count": null,
   "metadata": {},
   "outputs": [],
   "source": []
  },
  {
   "cell_type": "code",
   "execution_count": null,
   "metadata": {},
   "outputs": [],
   "source": []
  },
  {
   "cell_type": "code",
   "execution_count": null,
   "metadata": {},
   "outputs": [],
   "source": []
  }
 ],
 "metadata": {
  "kernelspec": {
   "display_name": "ml4ns",
   "language": "python",
   "name": "python3"
  },
  "language_info": {
   "codemirror_mode": {
    "name": "ipython",
    "version": 3
   },
   "file_extension": ".py",
   "mimetype": "text/x-python",
   "name": "python",
   "nbconvert_exporter": "python",
   "pygments_lexer": "ipython3",
   "version": "3.11.11"
  },
  "orig_nbformat": 4
 },
 "nbformat": 4,
 "nbformat_minor": 2
}
