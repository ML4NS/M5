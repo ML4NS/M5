{
 "cells": [
  {
   "cell_type": "markdown",
   "id": "790ce472",
   "metadata": {},
   "source": [
    "# Lab 4: Probability and Bayesian Theory\n",
    "\n",
    "Machine Learning for Neuroscience, <br>Department of Brain Sciences, Faculty of Medicine, <br> Imperial College London\n",
    "\n",
    "**Contributors:** Nan Fletcher-Lloyd, Antigone Fogel, Iona Biggart, Anastasia Gailly-de-Taurines, Tianyu Cui, Francesca Palermo, Alex Capstick, Yu Chen, Marirena Bafaloukou, Ruxandra Mihai, Payam Barnaghi\n",
    "**Spring 2025**\n",
    "\n"
   ]
  },
  {
   "cell_type": "markdown",
   "id": "4b161ecd",
   "metadata": {},
   "source": [
    "This tutorial will focus on probability and Bayesian theory using [scikit-learn](https://scikit-learn.org/stable), the machine learning library for Python."
   ]
  },
  {
   "cell_type": "code",
   "execution_count": 63,
   "id": "fa77cbf7",
   "metadata": {},
   "outputs": [],
   "source": [
    "import sklearn as sk\n",
    "from sklearn import datasets\n",
    "import pandas as pd\n",
    "import numpy as np\n",
    "import matplotlib.pyplot as plt\n",
    "import seaborn as sns"
   ]
  },
  {
   "cell_type": "markdown",
   "id": "5b10c736",
   "metadata": {},
   "source": [
    "## 1. Probability and Statistical Testing"
   ]
  },
  {
   "cell_type": "markdown",
   "id": "0cebf2f0",
   "metadata": {},
   "source": [
    "In this section, we will introduce you to **hypothesis testing**, a statistical method used to make decisions using experimental data. \n",
    "\n",
    "To test a hypothesis, you must first have one! Put simply, a **hypothesis** is an assumption about a population parameter that can be evaluated using sample data. **Hypothesis testing** requires two mutually exclusive statements: a null and alternate hypothesis:\n",
    "- The **null hypothesis** is a statement that assumes no effect, no difference, or no relationship exists in the population. It is the default claim to be tested\n",
    "- The **alternate hypothesis** is a statement that contradicts the null hypothesis. It suggests there is an effect, difference, or relationship in the population.\n",
    "\n",
    "Read more about the key terms of hypothesis testing and the different types and when to use them [here](https://towardsdatascience.com/hypothesis-testing-in-machine-learning-using-python-a0dc89e169ce)"
   ]
  },
  {
   "cell_type": "markdown",
   "id": "b4123af7",
   "metadata": {},
   "source": [
    "Here, we will demonstrate how, with enough data, statistics can enable us to calculate probabilities using real-world observations. \n",
    "\n",
    "Probability provides the **theory** while statistics provides the **tools** to test that theory using **data**.\n",
    "\n",
    "In theoretical contexts, we often talk about population parameters like the \"true\" population mean or standard deviation. But, since we typically don't have access to information about the entire population, **we use sample data to estimate population parameters**. Descriptive statistics like sample mean and sample standard deviation act as *proxies* for theoretical population values.\n",
    "\n",
    "With more and more data, we can become more confident that what we calculate represents the true probability of these events occurring."
   ]
  },
  {
   "cell_type": "markdown",
   "id": "36eb0b85",
   "metadata": {},
   "source": [
    "Let's start by loading the [iris dataset](https://scikit-learn.org/1.5/auto_examples/datasets/plot_iris_dataset.html)."
   ]
  },
  {
   "cell_type": "code",
   "execution_count": 64,
   "id": "fed4d1e3",
   "metadata": {},
   "outputs": [],
   "source": [
    "data = datasets.load_iris(as_frame=True)\n",
    "features = data.data # this derives features as a dataframe (4 features by 150 instances)\n",
    "labels = data.target # this derives labels as a dataframe (150 instances)"
   ]
  },
  {
   "cell_type": "code",
   "execution_count": 65,
   "id": "74b238c7",
   "metadata": {},
   "outputs": [
    {
     "data": {
      "text/html": [
       "<div>\n",
       "<style scoped>\n",
       "    .dataframe tbody tr th:only-of-type {\n",
       "        vertical-align: middle;\n",
       "    }\n",
       "\n",
       "    .dataframe tbody tr th {\n",
       "        vertical-align: top;\n",
       "    }\n",
       "\n",
       "    .dataframe thead th {\n",
       "        text-align: right;\n",
       "    }\n",
       "</style>\n",
       "<table border=\"1\" class=\"dataframe\">\n",
       "  <thead>\n",
       "    <tr style=\"text-align: right;\">\n",
       "      <th></th>\n",
       "      <th>sepal length (cm)</th>\n",
       "      <th>sepal width (cm)</th>\n",
       "      <th>petal length (cm)</th>\n",
       "      <th>petal width (cm)</th>\n",
       "      <th>target</th>\n",
       "    </tr>\n",
       "  </thead>\n",
       "  <tbody>\n",
       "    <tr>\n",
       "      <th>0</th>\n",
       "      <td>5.1</td>\n",
       "      <td>3.5</td>\n",
       "      <td>1.4</td>\n",
       "      <td>0.2</td>\n",
       "      <td>0</td>\n",
       "    </tr>\n",
       "    <tr>\n",
       "      <th>1</th>\n",
       "      <td>4.9</td>\n",
       "      <td>3.0</td>\n",
       "      <td>1.4</td>\n",
       "      <td>0.2</td>\n",
       "      <td>0</td>\n",
       "    </tr>\n",
       "    <tr>\n",
       "      <th>2</th>\n",
       "      <td>4.7</td>\n",
       "      <td>3.2</td>\n",
       "      <td>1.3</td>\n",
       "      <td>0.2</td>\n",
       "      <td>0</td>\n",
       "    </tr>\n",
       "    <tr>\n",
       "      <th>3</th>\n",
       "      <td>4.6</td>\n",
       "      <td>3.1</td>\n",
       "      <td>1.5</td>\n",
       "      <td>0.2</td>\n",
       "      <td>0</td>\n",
       "    </tr>\n",
       "    <tr>\n",
       "      <th>4</th>\n",
       "      <td>5.0</td>\n",
       "      <td>3.6</td>\n",
       "      <td>1.4</td>\n",
       "      <td>0.2</td>\n",
       "      <td>0</td>\n",
       "    </tr>\n",
       "    <tr>\n",
       "      <th>...</th>\n",
       "      <td>...</td>\n",
       "      <td>...</td>\n",
       "      <td>...</td>\n",
       "      <td>...</td>\n",
       "      <td>...</td>\n",
       "    </tr>\n",
       "    <tr>\n",
       "      <th>145</th>\n",
       "      <td>6.7</td>\n",
       "      <td>3.0</td>\n",
       "      <td>5.2</td>\n",
       "      <td>2.3</td>\n",
       "      <td>2</td>\n",
       "    </tr>\n",
       "    <tr>\n",
       "      <th>146</th>\n",
       "      <td>6.3</td>\n",
       "      <td>2.5</td>\n",
       "      <td>5.0</td>\n",
       "      <td>1.9</td>\n",
       "      <td>2</td>\n",
       "    </tr>\n",
       "    <tr>\n",
       "      <th>147</th>\n",
       "      <td>6.5</td>\n",
       "      <td>3.0</td>\n",
       "      <td>5.2</td>\n",
       "      <td>2.0</td>\n",
       "      <td>2</td>\n",
       "    </tr>\n",
       "    <tr>\n",
       "      <th>148</th>\n",
       "      <td>6.2</td>\n",
       "      <td>3.4</td>\n",
       "      <td>5.4</td>\n",
       "      <td>2.3</td>\n",
       "      <td>2</td>\n",
       "    </tr>\n",
       "    <tr>\n",
       "      <th>149</th>\n",
       "      <td>5.9</td>\n",
       "      <td>3.0</td>\n",
       "      <td>5.1</td>\n",
       "      <td>1.8</td>\n",
       "      <td>2</td>\n",
       "    </tr>\n",
       "  </tbody>\n",
       "</table>\n",
       "<p>150 rows × 5 columns</p>\n",
       "</div>"
      ],
      "text/plain": [
       "     sepal length (cm)  sepal width (cm)  petal length (cm)  petal width (cm)  \\\n",
       "0                  5.1               3.5                1.4               0.2   \n",
       "1                  4.9               3.0                1.4               0.2   \n",
       "2                  4.7               3.2                1.3               0.2   \n",
       "3                  4.6               3.1                1.5               0.2   \n",
       "4                  5.0               3.6                1.4               0.2   \n",
       "..                 ...               ...                ...               ...   \n",
       "145                6.7               3.0                5.2               2.3   \n",
       "146                6.3               2.5                5.0               1.9   \n",
       "147                6.5               3.0                5.2               2.0   \n",
       "148                6.2               3.4                5.4               2.3   \n",
       "149                5.9               3.0                5.1               1.8   \n",
       "\n",
       "     target  \n",
       "0         0  \n",
       "1         0  \n",
       "2         0  \n",
       "3         0  \n",
       "4         0  \n",
       "..      ...  \n",
       "145       2  \n",
       "146       2  \n",
       "147       2  \n",
       "148       2  \n",
       "149       2  \n",
       "\n",
       "[150 rows x 5 columns]"
      ]
     },
     "execution_count": 65,
     "metadata": {},
     "output_type": "execute_result"
    }
   ],
   "source": [
    "# Create one DataFrame with the features and labels\n",
    "iris = pd.concat([features, labels], axis=1)\n",
    "iris"
   ]
  },
  {
   "cell_type": "markdown",
   "id": "81109354",
   "metadata": {},
   "source": [
    "`pd.concat()` is a function in pandas that allows you to combine (or concatenate) two DataFrames along a specified axis.\n",
    "- the argument inside `[]` is a list of DataFrames you want to concatenate\n",
    "- `axis=1` concatenates along the columns (horizontally, side-by-side). In this case we are adding the `labels` DataFrame to the right of the `features` DataFrame. We assume that the two DataFrames **share an index**.\n",
    "- if we were to specify `axis=0`, the DataFrames would be concatenated along the rows (vertically stacked). In this case, we would hope that both DataFrames **share columns**. \n",
    "    - What would happen if you ran the above code with `axis=0`? Try it out and see for yourself!"
   ]
  },
  {
   "cell_type": "markdown",
   "id": "e481dc32",
   "metadata": {},
   "source": [
    "Now, a quick check to determine how many classes (or iris types) we have in our dataset.\n",
    "\n",
    "**Note:** the `.unique()` function prints each unique value in a given array or DataFrame column."
   ]
  },
  {
   "cell_type": "code",
   "execution_count": 66,
   "id": "a423cd36",
   "metadata": {},
   "outputs": [
    {
     "data": {
      "text/plain": [
       "array([0, 1, 2])"
      ]
     },
     "execution_count": 66,
     "metadata": {},
     "output_type": "execute_result"
    }
   ],
   "source": [
    "iris['target'].unique()"
   ]
  },
  {
   "cell_type": "markdown",
   "id": "c46dc091",
   "metadata": {},
   "source": [
    "It looks like we have **three** unique iris types in our dataset!"
   ]
  },
  {
   "cell_type": "markdown",
   "id": "bfafca96",
   "metadata": {},
   "source": [
    "The following steps in this section will help us answer the question: **Is the sepal length different between classes 0 and 1?**\n",
    "\n",
    "**Note**: By exploring how only one feature differs between target classes, we remove the need for feature scaling."
   ]
  },
  {
   "cell_type": "markdown",
   "id": "cabd1272",
   "metadata": {},
   "source": [
    "### 1.1 Visualise continuous feature values across classes using a **histogram**\n",
    "\n",
    "Sepal length is a continuous variable. Let's begin by exploring its distribution in each iris type using a histogram.\n",
    "\n",
    "Learn more about histograms in seaborn [here](https://seaborn.pydata.org/generated/seaborn.histplot.html)"
   ]
  },
  {
   "cell_type": "markdown",
   "id": "4f52f9e1",
   "metadata": {},
   "source": [
    "First, we will create one DataFrame with all rows from the `iris` dataset where `target = 0`, and another for all rows where `target = 1`."
   ]
  },
  {
   "cell_type": "code",
   "execution_count": 67,
   "id": "d9f5d923",
   "metadata": {},
   "outputs": [],
   "source": [
    "class_0 = iris[iris['target'] == 0]\n",
    "class_1 = iris[iris['target'] == 1]"
   ]
  },
  {
   "cell_type": "markdown",
   "id": "20a737c4",
   "metadata": {},
   "source": [
    "**Note:** the `iris[iris['target'] == 0]` expression creates a **new DataFrame** (or slice) that only contains rows from the `iris` DataFrame where the target value is 0. It does not modify the original iris DataFrame. By assigning it to the variable `class_0`, you are storing that new DataFrame in the `class_0` variable for easy access in future.\n",
    "\n",
    "The same goes for `class_1`"
   ]
  },
  {
   "cell_type": "code",
   "execution_count": 68,
   "id": "05a86917",
   "metadata": {},
   "outputs": [
    {
     "data": {
      "image/png": "[encoded data removed]",
      "text/plain": [
       "<Figure size 640x480 with 1 Axes>"
      ]
     },
     "metadata": {},
     "output_type": "display_data"
    }
   ],
   "source": [
    "df = pd.concat([class_0, class_1])\n",
    "ax = sns.histplot(data=df, \n",
    "                  x=iris.columns[0], # Selects the first column of df for x\n",
    "                  hue=\"target\", # Groups df by the target column and colours each group differently\n",
    "                  element=\"step\", # Specifies how we view the histogram. What other element options are there?\n",
    "                  bins=25, # Creates 25 uniform bins based on our data\n",
    "                  palette='PuRd')\n",
    "sns.move_legend(ax, title='Class',loc='lower center', bbox_to_anchor=(0.5, -0.3), ncol=2)\n"
   ]
  },
  {
   "cell_type": "markdown",
   "id": "ec995211",
   "metadata": {},
   "source": [
    "Notice how when we created `df` we used the `pd.concat()` function, but did not specify an **axis**. That is because, by default, `pd.concat()` concatenates DataFrames along `axis=0` which is what we wanted to do when creating `df`."
   ]
  },
  {
   "cell_type": "code",
   "execution_count": 69,
   "id": "dea149e4",
   "metadata": {},
   "outputs": [],
   "source": [
    "# CHALLENGE: How else might you make df from the iris dataset? Hint: can you filter the iris DataFrame to include rows where target=0 OR target=1?\n",
    "\n"
   ]
  },
  {
   "cell_type": "markdown",
   "id": "739d000d",
   "metadata": {},
   "source": [
    "### 1.2 Use your histogram to roughly determine if your data is normally distributed\n",
    "\n",
    "Based on the histogram above, it looks like sepal length is approximately normally distributed in each class.\n",
    "\n",
    "**Understanding the Normal Distribution**\n",
    "\n",
    "The **normal distribution** is a foundational concept in probability and statistical theory. It describes how the probability of data points is distributed.\n",
    "- the **x-axis** represents the values of the data, and \n",
    "- the **y-axis** represents the probability of each data point, from 0 to 1.\n",
    "The highest point on the normal distribution curve represents the value with the highest probability of occuring. It corresponds to the **mean** in statistical contexts. As you move away from the mean in either direction, the probability decreases symmetrically, forming the familiar bell-shaped curve.\n",
    "\n",
    "**Comparing Two Distributions**\n",
    "\n",
    "When comparing two normal distributions:\n",
    "- **No overlap**: the two distributions likely represent two distinct datasets.\n",
    "- **Complete overlap**: the two distributions may represent the same dataset and there is no real difference in the means of the distributions.\n",
    "- **Partial overlap**: it is more difficult to determine whether or not the datasets are distinct. Further analysis is required.\n",
    "\n",
    "**Why the Normal Distribution is Important**\n",
    "\n",
    "The normal distribution is crucial in probability and statistics for two main reasons:\n",
    "1. **The Central Limit Theorem (CLT):** as we collect more data, the sample mean becomes a better estimate of the true population mean\n",
    "2. **The Three Sigma Rule:** describes how data is spread around the mean in a normal distribution\n",
    "    - **68%** of data points will fall within **1 standard deviation** of the mean \n",
    "    - **95%** of data points will fall within **2 standard deviations** of the mean \n",
    "    - **99.7%** of data points will fall within **3 standard deviations** of the mean \n",
    "\n",
    "**Applying These Concepts to the Iris Dataset**\n",
    "\n",
    "In the context of our iris dataset, we can use the Three Signma Rule to:\n",
    "- measure the spread of a specific feature (ie. sepal length) across different classes \n",
    "- quantify how likely it is that the sepal length for one class differs significantly from another."
   ]
  },
  {
   "cell_type": "markdown",
   "id": "272f2158",
   "metadata": {},
   "source": [
    "### 1.3 Create a Null and Alternate Hypothesis\n",
    "\n",
    "This will allow us to carry out hypothesis testing.\n",
    "\n",
    "**QUESTION:** Is the sepal length different between classes 0 and 1?\n",
    "- **Null Hypothesis**: Sepal length *is not* different between classes \n",
    "- **Alternate Hypothesis**: Sepal length *is* different between classes"
   ]
  },
  {
   "cell_type": "markdown",
   "id": "7a462f03",
   "metadata": {},
   "source": [
    "### 1.4 Hypothesis Testing\n",
    "\n",
    "Returning to [this article](https://towardsdatascience.com/hypothesis-testing-in-machine-learning-using-python-a0dc89e169ce), we are reminded that there are several different statistical tests that can be conducted to test a hypothesis.\n",
    "\n",
    "**In this case,** we want to test whether the means of two independent groups are statistically different or not. Thus, we will be conducting a **two sample, two-tailed hypothesis test**.\n",
    "\n",
    "We are assuming that our data is normally distributed, but, since the sample size for each group exceeds 30, this assumption is less critial due to the CLT. Therefore, we will perform a **z-test** using each sample's **mean** and **standard deviation**."
   ]
  },
  {
   "cell_type": "markdown",
   "id": "e299fd95",
   "metadata": {},
   "source": [
    "First, let's calculate the mean and standard deviation of the sepal length of each class of iris."
   ]
  },
  {
   "cell_type": "code",
   "execution_count": 70,
   "id": "6ee6fc94",
   "metadata": {},
   "outputs": [
    {
     "name": "stdout",
     "output_type": "stream",
     "text": [
      "sepal length (cm) in two classes\n",
      "Class 0: mean 5.006, std 0.352\n",
      "Class 1: mean 5.936, std 0.516\n"
     ]
    }
   ],
   "source": [
    "col = df.columns[0] # Selecting only the first column in our DataFrame\n",
    "print(col+\" in two classes\")\n",
    "print(\"Class 0: mean {}, std {}\".format(round(class_0[col].mean(), 3), round(class_0[col].std(), 3)))\n",
    "print(\"Class 1: mean {}, std {}\".format(round(class_1[col].mean(), 3), round(class_1[col].std(), 3)))"
   ]
  },
  {
   "cell_type": "markdown",
   "id": "36be67a6",
   "metadata": {},
   "source": [
    "These values look very similar! But let's calculate the z-test statistic before making any final decisions."
   ]
  },
  {
   "cell_type": "code",
   "execution_count": 71,
   "id": "7688f42c",
   "metadata": {},
   "outputs": [],
   "source": [
    "from statsmodels.stats.weightstats import ztest"
   ]
  },
  {
   "cell_type": "markdown",
   "id": "89278020",
   "metadata": {},
   "source": [
    "*N.B. you can learn more about using the statsmodels z-test [here](https://www.statsmodels.org/dev/generated/statsmodels.stats.weightstats.ztest.html)*"
   ]
  },
  {
   "cell_type": "markdown",
   "id": "e4668ffc",
   "metadata": {},
   "source": [
    "This method requires the feature columns to be in arrays."
   ]
  },
  {
   "cell_type": "code",
   "execution_count": 72,
   "id": "5cc1e690",
   "metadata": {},
   "outputs": [],
   "source": [
    "class_0 = class_0[col].values\n",
    "class_1 = class_1[col].values"
   ]
  },
  {
   "cell_type": "markdown",
   "id": "6a863c85",
   "metadata": {},
   "source": [
    "Finally, we can calculate the test-statistic and p-value:\n",
    "\n",
    "using `ztest()`:\n",
    "- `class_0` and `class_1` are the two datasets being compared\n",
    "- `value=0` specifies the null hypothesis which assumes that there is **no difference** between the means of the two groups \n",
    "- `alternative='two-sided'` defines the type of hypothesis test. A **two-sided test** checks for differences in either direction rather than one specific direction"
   ]
  },
  {
   "cell_type": "code",
   "execution_count": 73,
   "id": "b5ccd584",
   "metadata": {},
   "outputs": [
    {
     "name": "stdout",
     "output_type": "stream",
     "text": [
      "test-statistic (z-value): -10.52098626754911\n",
      "p-value: 6.91459526120739e-26\n"
     ]
    }
   ],
   "source": [
    "z_stat, p_val = ztest(class_0, class_1, value=0, alternative='two-sided') \n",
    "\n",
    "print(f\"test-statistic (z-value): {z_stat}\")\n",
    "print(f\"p-value: {p_val}\")"
   ]
  },
  {
   "cell_type": "markdown",
   "id": "5a3d417e",
   "metadata": {},
   "source": [
    "The **p-value** helps determine whether to accept or reject the null hypothesis. It measures the probability of observing the given data (or something more extreme) if the null hypothesis were true. We call this **statistical significance** \n",
    "\n",
    "Since decisions cannot be made with 100% certainty, we set a threshold for significance, typically at 5% (0.05):\n",
    "-  If the p-value is **greater than 0.05**, we **fail to reject the null hypothesis**, indicating there is insufficient evidence to conclude a difference between the samples.\n",
    "- if the p-value is **less than 0.05**, we **reject the null hypothesis**, indicating a statistically significant difference exists between the samples."
   ]
  },
  {
   "cell_type": "markdown",
   "id": "1e8d36fc",
   "metadata": {},
   "source": [
    "**In this case,** we **reject the null hypothesis**. The sepal length is different between classes 0 and 1."
   ]
  },
  {
   "cell_type": "markdown",
   "id": "db309354",
   "metadata": {},
   "source": [
    "And that's it! You've now learnt the basics of hypothesis testing."
   ]
  },
  {
   "cell_type": "markdown",
   "id": "dccc7a14",
   "metadata": {},
   "source": [
    "## 2. Bayesian Theory"
   ]
  },
  {
   "cell_type": "markdown",
   "id": "0fea29ed",
   "metadata": {},
   "source": [
    "The second part of this tutorial will focus on Bayesian theory."
   ]
  },
  {
   "cell_type": "markdown",
   "id": "98d554d1",
   "metadata": {},
   "source": [
    "Now, as you will have learnt in your lectures, **Naive Bayes** methods are a set of supervised learning classifiers that operate under the assumption that the presence of one feature in a class is independent of the presence of any other feature.\n",
    "\n",
    "There are several types of Naive Bayes models (learn more [here](https://scikit-learn.org/stable/modules/naive_bayes.html#gaussian-naive-bayes)) but for this exercise, we will focus on **[Gaussian Naive Bayes classifiers](https://scikit-learn.org/stable/modules/generated/sklearn.naive_bayes.GaussianNB.html#sklearn.naive_bayes.GaussianNB)**."
   ]
  },
  {
   "cell_type": "markdown",
   "id": "ec4e67ba",
   "metadata": {},
   "source": [
    "For this, we will create our own dataset of **10 features** across **500 instances**, categorised into **two classes**: \n",
    "- **Class 0** represents a control group\n",
    "- **Class 1** represents the class of interest. \n",
    "As in real world medical problems, there are fewer isntances of the class of interest.\n",
    "\n",
    "*Learn more about making your own classification datasets [here](https://scikit-learn.org/stable/modules/generated/sklearn.datasets.make_classification.html)*"
   ]
  },
  {
   "cell_type": "code",
   "execution_count": 74,
   "id": "e10f0b6a",
   "metadata": {},
   "outputs": [],
   "source": [
    "features, labels = datasets.make_classification(n_samples=500,      # Total number of samples to generate\n",
    "                                                n_features=10,      # Number of features in the dataset\n",
    "                                                n_informative=8,    # Number of features that carry useful information\n",
    "                                                n_classes=2,        # Number of classes\n",
    "                                                weights=np.array([0.65, 0.35]), # Proportion of samples in each class\n",
    "                                                flip_y=0.01,        # Fraction of samples to randomly flip (introduces noise)\n",
    "                                                class_sep=2.0,      # Separability of classes - larger=more distinct\n",
    "                                                shuffle=True,       # Shuffle dataset after generation\n",
    "                                                random_state=42)"
   ]
  },
  {
   "cell_type": "markdown",
   "id": "de601e90",
   "metadata": {},
   "source": [
    "Now, let's take a quick look at the features and labels that were generated, in dataframe form for ease."
   ]
  },
  {
   "cell_type": "code",
   "execution_count": 75,
   "id": "60c63302",
   "metadata": {},
   "outputs": [
    {
     "data": {
      "text/html": [
       "<div>\n",
       "<style scoped>\n",
       "    .dataframe tbody tr th:only-of-type {\n",
       "        vertical-align: middle;\n",
       "    }\n",
       "\n",
       "    .dataframe tbody tr th {\n",
       "        vertical-align: top;\n",
       "    }\n",
       "\n",
       "    .dataframe thead th {\n",
       "        text-align: right;\n",
       "    }\n",
       "</style>\n",
       "<table border=\"1\" class=\"dataframe\">\n",
       "  <thead>\n",
       "    <tr style=\"text-align: right;\">\n",
       "      <th></th>\n",
       "      <th>F0</th>\n",
       "      <th>F1</th>\n",
       "      <th>F2</th>\n",
       "      <th>F3</th>\n",
       "      <th>F4</th>\n",
       "      <th>F5</th>\n",
       "      <th>F6</th>\n",
       "      <th>F7</th>\n",
       "      <th>F8</th>\n",
       "      <th>F9</th>\n",
       "      <th>Class</th>\n",
       "    </tr>\n",
       "  </thead>\n",
       "  <tbody>\n",
       "    <tr>\n",
       "      <th>0</th>\n",
       "      <td>2.899136</td>\n",
       "      <td>-1.504262</td>\n",
       "      <td>-2.865578</td>\n",
       "      <td>3.189817</td>\n",
       "      <td>1.734764</td>\n",
       "      <td>2.105161</td>\n",
       "      <td>-3.229556</td>\n",
       "      <td>2.403973</td>\n",
       "      <td>-2.902707</td>\n",
       "      <td>0.499130</td>\n",
       "      <td>0</td>\n",
       "    </tr>\n",
       "    <tr>\n",
       "      <th>1</th>\n",
       "      <td>3.467613</td>\n",
       "      <td>-4.406937</td>\n",
       "      <td>2.849073</td>\n",
       "      <td>1.153019</td>\n",
       "      <td>2.711802</td>\n",
       "      <td>-1.961105</td>\n",
       "      <td>-2.671268</td>\n",
       "      <td>1.039823</td>\n",
       "      <td>-1.566765</td>\n",
       "      <td>-0.077519</td>\n",
       "      <td>1</td>\n",
       "    </tr>\n",
       "    <tr>\n",
       "      <th>2</th>\n",
       "      <td>3.644711</td>\n",
       "      <td>-0.110035</td>\n",
       "      <td>6.222994</td>\n",
       "      <td>-2.802069</td>\n",
       "      <td>-2.520034</td>\n",
       "      <td>2.023644</td>\n",
       "      <td>0.552524</td>\n",
       "      <td>1.413821</td>\n",
       "      <td>-1.214413</td>\n",
       "      <td>-2.570579</td>\n",
       "      <td>0</td>\n",
       "    </tr>\n",
       "    <tr>\n",
       "      <th>3</th>\n",
       "      <td>6.766245</td>\n",
       "      <td>-1.878676</td>\n",
       "      <td>-2.187759</td>\n",
       "      <td>9.928311</td>\n",
       "      <td>1.398671</td>\n",
       "      <td>-1.391950</td>\n",
       "      <td>-5.457044</td>\n",
       "      <td>-0.512490</td>\n",
       "      <td>-1.123277</td>\n",
       "      <td>1.302933</td>\n",
       "      <td>0</td>\n",
       "    </tr>\n",
       "    <tr>\n",
       "      <th>4</th>\n",
       "      <td>0.310887</td>\n",
       "      <td>-2.485219</td>\n",
       "      <td>2.607958</td>\n",
       "      <td>-1.757280</td>\n",
       "      <td>1.853096</td>\n",
       "      <td>-0.287983</td>\n",
       "      <td>-1.154815</td>\n",
       "      <td>1.309090</td>\n",
       "      <td>-2.093734</td>\n",
       "      <td>2.235665</td>\n",
       "      <td>1</td>\n",
       "    </tr>\n",
       "    <tr>\n",
       "      <th>...</th>\n",
       "      <td>...</td>\n",
       "      <td>...</td>\n",
       "      <td>...</td>\n",
       "      <td>...</td>\n",
       "      <td>...</td>\n",
       "      <td>...</td>\n",
       "      <td>...</td>\n",
       "      <td>...</td>\n",
       "      <td>...</td>\n",
       "      <td>...</td>\n",
       "      <td>...</td>\n",
       "    </tr>\n",
       "    <tr>\n",
       "      <th>495</th>\n",
       "      <td>0.218707</td>\n",
       "      <td>0.491198</td>\n",
       "      <td>-1.439844</td>\n",
       "      <td>-1.414677</td>\n",
       "      <td>1.648513</td>\n",
       "      <td>3.248171</td>\n",
       "      <td>-2.144993</td>\n",
       "      <td>3.165031</td>\n",
       "      <td>-1.861948</td>\n",
       "      <td>0.788817</td>\n",
       "      <td>0</td>\n",
       "    </tr>\n",
       "    <tr>\n",
       "      <th>496</th>\n",
       "      <td>4.153598</td>\n",
       "      <td>-0.616152</td>\n",
       "      <td>1.543311</td>\n",
       "      <td>0.248600</td>\n",
       "      <td>-1.944762</td>\n",
       "      <td>0.097494</td>\n",
       "      <td>2.932468</td>\n",
       "      <td>-0.694211</td>\n",
       "      <td>-1.438984</td>\n",
       "      <td>-0.710786</td>\n",
       "      <td>0</td>\n",
       "    </tr>\n",
       "    <tr>\n",
       "      <th>497</th>\n",
       "      <td>-2.801126</td>\n",
       "      <td>-4.375751</td>\n",
       "      <td>-2.436777</td>\n",
       "      <td>5.271192</td>\n",
       "      <td>-1.857045</td>\n",
       "      <td>-4.107250</td>\n",
       "      <td>-2.672585</td>\n",
       "      <td>1.632947</td>\n",
       "      <td>-2.407046</td>\n",
       "      <td>2.527889</td>\n",
       "      <td>1</td>\n",
       "    </tr>\n",
       "    <tr>\n",
       "      <th>498</th>\n",
       "      <td>2.770104</td>\n",
       "      <td>-1.092493</td>\n",
       "      <td>0.798509</td>\n",
       "      <td>1.294682</td>\n",
       "      <td>4.686547</td>\n",
       "      <td>-2.308703</td>\n",
       "      <td>-3.820610</td>\n",
       "      <td>0.356281</td>\n",
       "      <td>1.419128</td>\n",
       "      <td>1.836637</td>\n",
       "      <td>1</td>\n",
       "    </tr>\n",
       "    <tr>\n",
       "      <th>499</th>\n",
       "      <td>0.390561</td>\n",
       "      <td>-3.145226</td>\n",
       "      <td>-1.686732</td>\n",
       "      <td>2.501004</td>\n",
       "      <td>-1.997774</td>\n",
       "      <td>2.563781</td>\n",
       "      <td>0.122958</td>\n",
       "      <td>1.459501</td>\n",
       "      <td>-5.805571</td>\n",
       "      <td>0.983686</td>\n",
       "      <td>1</td>\n",
       "    </tr>\n",
       "  </tbody>\n",
       "</table>\n",
       "<p>500 rows × 11 columns</p>\n",
       "</div>"
      ],
      "text/plain": [
       "           F0        F1        F2        F3        F4        F5        F6  \\\n",
       "0    2.899136 -1.504262 -2.865578  3.189817  1.734764  2.105161 -3.229556   \n",
       "1    3.467613 -4.406937  2.849073  1.153019  2.711802 -1.961105 -2.671268   \n",
       "2    3.644711 -0.110035  6.222994 -2.802069 -2.520034  2.023644  0.552524   \n",
       "3    6.766245 -1.878676 -2.187759  9.928311  1.398671 -1.391950 -5.457044   \n",
       "4    0.310887 -2.485219  2.607958 -1.757280  1.853096 -0.287983 -1.154815   \n",
       "..        ...       ...       ...       ...       ...       ...       ...   \n",
       "495  0.218707  0.491198 -1.439844 -1.414677  1.648513  3.248171 -2.144993   \n",
       "496  4.153598 -0.616152  1.543311  0.248600 -1.944762  0.097494  2.932468   \n",
       "497 -2.801126 -4.375751 -2.436777  5.271192 -1.857045 -4.107250 -2.672585   \n",
       "498  2.770104 -1.092493  0.798509  1.294682  4.686547 -2.308703 -3.820610   \n",
       "499  0.390561 -3.145226 -1.686732  2.501004 -1.997774  2.563781  0.122958   \n",
       "\n",
       "           F7        F8        F9  Class  \n",
       "0    2.403973 -2.902707  0.499130      0  \n",
       "1    1.039823 -1.566765 -0.077519      1  \n",
       "2    1.413821 -1.214413 -2.570579      0  \n",
       "3   -0.512490 -1.123277  1.302933      0  \n",
       "4    1.309090 -2.093734  2.235665      1  \n",
       "..        ...       ...       ...    ...  \n",
       "495  3.165031 -1.861948  0.788817      0  \n",
       "496 -0.694211 -1.438984 -0.710786      0  \n",
       "497  1.632947 -2.407046  2.527889      1  \n",
       "498  0.356281  1.419128  1.836637      1  \n",
       "499  1.459501 -5.805571  0.983686      1  \n",
       "\n",
       "[500 rows x 11 columns]"
      ]
     },
     "execution_count": 75,
     "metadata": {},
     "output_type": "execute_result"
    }
   ],
   "source": [
    "features = pd.DataFrame(features)\n",
    "labels = pd.DataFrame(labels)\n",
    "df = pd.concat([features, labels], axis=1)\n",
    "df.columns = [\"F\"+str(i) for i in range(10)] + ['Class']\n",
    "df"
   ]
  },
  {
   "cell_type": "markdown",
   "id": "e9a03dfc",
   "metadata": {},
   "source": [
    "Now, as we are working with Naive Bayes classifer, we do not need to do any feature scaling, so let's get straight into building our model. "
   ]
  },
  {
   "cell_type": "markdown",
   "id": "9343433f",
   "metadata": {},
   "source": [
    "First, we must split our data into training and testing data."
   ]
  },
  {
   "cell_type": "code",
   "execution_count": 76,
   "id": "fc6cc873",
   "metadata": {},
   "outputs": [],
   "source": [
    "from sklearn.model_selection import train_test_split\n",
    "x_train, x_test, y_train, y_test = train_test_split(features, labels, test_size=0.2, shuffle=True, random_state = 42)"
   ]
  },
  {
   "cell_type": "markdown",
   "id": "c21e3f0e",
   "metadata": {},
   "source": [
    "Next, we need to import and build our model."
   ]
  },
  {
   "cell_type": "code",
   "execution_count": 77,
   "id": "9beeafef",
   "metadata": {},
   "outputs": [],
   "source": [
    "from sklearn.naive_bayes import GaussianNB\n",
    "GNB = GaussianNB(var_smoothing=0.5)"
   ]
  },
  {
   "cell_type": "code",
   "execution_count": 78,
   "id": "d118a892",
   "metadata": {},
   "outputs": [],
   "source": [
    "y_train = y_train.values.reshape(-1) # converts the DataFrame to a 1D array\n",
    "\n",
    "GNB.fit(x_train, y_train) # fits the model on the training data\n",
    "y_pred = GNB.predict(x_test) # predicts labels on the test data\n",
    "y_pred_probs = GNB.predict_proba(x_test) # predicted probability of each class on the test data"
   ]
  },
  {
   "cell_type": "markdown",
   "id": "12d324a1",
   "metadata": {},
   "source": [
    "Now, we want to evaluate the performance of the classification model."
   ]
  },
  {
   "cell_type": "code",
   "execution_count": 79,
   "id": "5a7164ba",
   "metadata": {},
   "outputs": [],
   "source": [
    "from sklearn.metrics import accuracy_score\n",
    "from sklearn.metrics import precision_score\n",
    "from sklearn.metrics import recall_score\n",
    "from sklearn.metrics import f1_score\n",
    "from sklearn.metrics import classification_report\n",
    "from sklearn.metrics import roc_auc_score"
   ]
  },
  {
   "cell_type": "code",
   "execution_count": 80,
   "id": "8d5d325a",
   "metadata": {},
   "outputs": [
    {
     "name": "stdout",
     "output_type": "stream",
     "text": [
      "\n",
      "f1:\t\t [0.87671233 0.66666667]\n",
      "recall\t\t [0.98461538 0.51428571]\n",
      "precision\t [0.79012346 0.94736842]\n",
      "\n",
      "f1_avg:\t\t 0.7716894977168949\n",
      "recall_avg\t 0.7494505494505495\n",
      "precision_avg\t 0.8687459389213774\n",
      "\n",
      "f1_sd:\t\t 0.1050228310502283\n",
      "recall_sd\t 0.23516483516483522\n",
      "precision_sd\t 0.07862248213125406\n",
      "\n",
      "               precision    recall  f1-score   support\n",
      "\n",
      "           0       0.79      0.98      0.88        65\n",
      "           1       0.95      0.51      0.67        35\n",
      "\n",
      "    accuracy                           0.82       100\n",
      "   macro avg       0.87      0.75      0.77       100\n",
      "weighted avg       0.85      0.82      0.80       100\n",
      "\n",
      "0.9516483516483516\n"
     ]
    }
   ],
   "source": [
    "f1 = f1_score(y_test, y_pred,average=None)\n",
    "recall = recall_score(y_test, y_pred,average=None)\n",
    "precision = precision_score(y_test, y_pred,average=None)\n",
    "\n",
    "\n",
    "print('\\nf1:\\t\\t',f1)\n",
    "print('recall\\t\\t',recall)\n",
    "print('precision\\t',precision)\n",
    "\n",
    "print('\\nf1_avg:\\t\\t',f1.mean())\n",
    "print('recall_avg\\t',recall.mean())\n",
    "print('precision_avg\\t',precision.mean())\n",
    "\n",
    "print('\\nf1_sd:\\t\\t',f1.std())\n",
    "print('recall_sd\\t',recall.std())\n",
    "print('precision_sd\\t',precision.std())\n",
    "\n",
    "print('\\n',classification_report(y_test, y_pred))\n",
    "print(roc_auc_score(y_test, y_pred_probs[:,1]))"
   ]
  },
  {
   "cell_type": "markdown",
   "id": "40c1815b",
   "metadata": {},
   "source": [
    "Now, these scores are not very good, particularly when it comes to identifying the class of interest (Class 1). So how can we improve model performance?"
   ]
  },
  {
   "cell_type": "markdown",
   "id": "e4d622d0",
   "metadata": {},
   "source": [
    "One method is to **tune the hyperparameters** of the model (read more about this [here](https://medium.com/analytics-vidhya/how-to-improve-naive-bayes-9fa698e14cba))\n",
    "\n",
    "For this, we first need to import the sklearn GridSearchCV function. This functions runs through all the different parameters fed into the parameter grid and produces the best combination of parameters based on a chosen scoring metric.\n",
    "\n",
    "Learn more about how to use this function [here](https://scikit-learn.org/stable/modules/generated/sklearn.model_selection.GridSearchCV.html)"
   ]
  },
  {
   "cell_type": "code",
   "execution_count": 81,
   "id": "3cd658be",
   "metadata": {},
   "outputs": [],
   "source": [
    "from sklearn.model_selection import GridSearchCV"
   ]
  },
  {
   "cell_type": "markdown",
   "id": "603c043d",
   "metadata": {},
   "source": [
    "Next, we need to set the range of all the parameters we will feed into the parameter grid. For a Gaussian Naive Bayes classifier, the only parameter to tune is `var_smoothing`, which represents a stability calculation to widen (or smooth) the curve and therefore account for more samples that are further away from the distribution mean."
   ]
  },
  {
   "cell_type": "code",
   "execution_count": 82,
   "id": "1bd54c20",
   "metadata": {},
   "outputs": [],
   "source": [
    "param_grid_nb = {'var_smoothing': np.logspace(0,-9, num=1000)} "
   ]
  },
  {
   "cell_type": "markdown",
   "id": "3c842eeb",
   "metadata": {},
   "source": [
    "`np.logspace` returns numbers spaced evenly on a log scale, in the above example, we create a list of: 1000 samples starting from 0 and ending at -9 "
   ]
  },
  {
   "cell_type": "markdown",
   "id": "3ea1a849",
   "metadata": {},
   "source": [
    "Now, we build the GridSearchCV, using the model and parameter grid. We then fit this searching tool to the training data using a 10-fold cross-validation to find an optimal combination of hyperparameters that minimizes a predefined loss function to give better results."
   ]
  },
  {
   "cell_type": "code",
   "execution_count": 83,
   "id": "e1e9b352",
   "metadata": {},
   "outputs": [
    {
     "name": "stdout",
     "output_type": "stream",
     "text": [
      "Fitting 10 folds for each of 1000 candidates, totalling 10000 fits\n"
     ]
    },
    {
     "data": {
      "text/html": [
       "<style>#sk-container-id-1 {\n",
       "  /* Definition of color scheme common for light and dark mode */\n",
       "  --sklearn-color-text: black;\n",
       "  --sklearn-color-line: gray;\n",
       "  /* Definition of color scheme for unfitted estimators */\n",
       "  --sklearn-color-unfitted-level-0: #fff5e6;\n",
       "  --sklearn-color-unfitted-level-1: #f6e4d2;\n",
       "  --sklearn-color-unfitted-level-2: #ffe0b3;\n",
       "  --sklearn-color-unfitted-level-3: chocolate;\n",
       "  /* Definition of color scheme for fitted estimators */\n",
       "  --sklearn-color-fitted-level-0: #f0f8ff;\n",
       "  --sklearn-color-fitted-level-1: #d4ebff;\n",
       "  --sklearn-color-fitted-level-2: #b3dbfd;\n",
       "  --sklearn-color-fitted-level-3: cornflowerblue;\n",
       "\n",
       "  /* Specific color for light theme */\n",
       "  --sklearn-color-text-on-default-background: var(--sg-text-color, var(--theme-code-foreground, var(--jp-content-font-color1, black)));\n",
       "  --sklearn-color-background: var(--sg-background-color, var(--theme-background, var(--jp-layout-color0, white)));\n",
       "  --sklearn-color-border-box: var(--sg-text-color, var(--theme-code-foreground, var(--jp-content-font-color1, black)));\n",
       "  --sklearn-color-icon: #696969;\n",
       "\n",
       "  @media (prefers-color-scheme: dark) {\n",
       "    /* Redefinition of color scheme for dark theme */\n",
       "    --sklearn-color-text-on-default-background: var(--sg-text-color, var(--theme-code-foreground, var(--jp-content-font-color1, white)));\n",
       "    --sklearn-color-background: var(--sg-background-color, var(--theme-background, var(--jp-layout-color0, #111)));\n",
       "    --sklearn-color-border-box: var(--sg-text-color, var(--theme-code-foreground, var(--jp-content-font-color1, white)));\n",
       "    --sklearn-color-icon: #878787;\n",
       "  }\n",
       "}\n",
       "\n",
       "#sk-container-id-1 {\n",
       "  color: var(--sklearn-color-text);\n",
       "}\n",
       "\n",
       "#sk-container-id-1 pre {\n",
       "  padding: 0;\n",
       "}\n",
       "\n",
       "#sk-container-id-1 input.sk-hidden--visually {\n",
       "  border: 0;\n",
       "  clip: rect(1px 1px 1px 1px);\n",
       "  clip: rect(1px, 1px, 1px, 1px);\n",
       "  height: 1px;\n",
       "  margin: -1px;\n",
       "  overflow: hidden;\n",
       "  padding: 0;\n",
       "  position: absolute;\n",
       "  width: 1px;\n",
       "}\n",
       "\n",
       "#sk-container-id-1 div.sk-dashed-wrapped {\n",
       "  border: 1px dashed var(--sklearn-color-line);\n",
       "  margin: 0 0.4em 0.5em 0.4em;\n",
       "  box-sizing: border-box;\n",
       "  padding-bottom: 0.4em;\n",
       "  background-color: var(--sklearn-color-background);\n",
       "}\n",
       "\n",
       "#sk-container-id-1 div.sk-container {\n",
       "  /* jupyter's `normalize.less` sets `[hidden] { display: none; }`\n",
       "     but bootstrap.min.css set `[hidden] { display: none !important; }`\n",
       "     so we also need the `!important` here to be able to override the\n",
       "     default hidden behavior on the sphinx rendered scikit-learn.org.\n",
       "     See: https://github.com/scikit-learn/scikit-learn/issues/21755 */\n",
       "  display: inline-block !important;\n",
       "  position: relative;\n",
       "}\n",
       "\n",
       "#sk-container-id-1 div.sk-text-repr-fallback {\n",
       "  display: none;\n",
       "}\n",
       "\n",
       "div.sk-parallel-item,\n",
       "div.sk-serial,\n",
       "div.sk-item {\n",
       "  /* draw centered vertical line to link estimators */\n",
       "  background-image: linear-gradient(var(--sklearn-color-text-on-default-background), var(--sklearn-color-text-on-default-background));\n",
       "  background-size: 2px 100%;\n",
       "  background-repeat: no-repeat;\n",
       "  background-position: center center;\n",
       "}\n",
       "\n",
       "/* Parallel-specific style estimator block */\n",
       "\n",
       "#sk-container-id-1 div.sk-parallel-item::after {\n",
       "  content: \"\";\n",
       "  width: 100%;\n",
       "  border-bottom: 2px solid var(--sklearn-color-text-on-default-background);\n",
       "  flex-grow: 1;\n",
       "}\n",
       "\n",
       "#sk-container-id-1 div.sk-parallel {\n",
       "  display: flex;\n",
       "  align-items: stretch;\n",
       "  justify-content: center;\n",
       "  background-color: var(--sklearn-color-background);\n",
       "  position: relative;\n",
       "}\n",
       "\n",
       "#sk-container-id-1 div.sk-parallel-item {\n",
       "  display: flex;\n",
       "  flex-direction: column;\n",
       "}\n",
       "\n",
       "#sk-container-id-1 div.sk-parallel-item:first-child::after {\n",
       "  align-self: flex-end;\n",
       "  width: 50%;\n",
       "}\n",
       "\n",
       "#sk-container-id-1 div.sk-parallel-item:last-child::after {\n",
       "  align-self: flex-start;\n",
       "  width: 50%;\n",
       "}\n",
       "\n",
       "#sk-container-id-1 div.sk-parallel-item:only-child::after {\n",
       "  width: 0;\n",
       "}\n",
       "\n",
       "/* Serial-specific style estimator block */\n",
       "\n",
       "#sk-container-id-1 div.sk-serial {\n",
       "  display: flex;\n",
       "  flex-direction: column;\n",
       "  align-items: center;\n",
       "  background-color: var(--sklearn-color-background);\n",
       "  padding-right: 1em;\n",
       "  padding-left: 1em;\n",
       "}\n",
       "\n",
       "\n",
       "/* Toggleable style: style used for estimator/Pipeline/ColumnTransformer box that is\n",
       "clickable and can be expanded/collapsed.\n",
       "- Pipeline and ColumnTransformer use this feature and define the default style\n",
       "- Estimators will overwrite some part of the style using the `sk-estimator` class\n",
       "*/\n",
       "\n",
       "/* Pipeline and ColumnTransformer style (default) */\n",
       "\n",
       "#sk-container-id-1 div.sk-toggleable {\n",
       "  /* Default theme specific background. It is overwritten whether we have a\n",
       "  specific estimator or a Pipeline/ColumnTransformer */\n",
       "  background-color: var(--sklearn-color-background);\n",
       "}\n",
       "\n",
       "/* Toggleable label */\n",
       "#sk-container-id-1 label.sk-toggleable__label {\n",
       "  cursor: pointer;\n",
       "  display: block;\n",
       "  width: 100%;\n",
       "  margin-bottom: 0;\n",
       "  padding: 0.5em;\n",
       "  box-sizing: border-box;\n",
       "  text-align: center;\n",
       "}\n",
       "\n",
       "#sk-container-id-1 label.sk-toggleable__label-arrow:before {\n",
       "  /* Arrow on the left of the label */\n",
       "  content: \"▸\";\n",
       "  float: left;\n",
       "  margin-right: 0.25em;\n",
       "  color: var(--sklearn-color-icon);\n",
       "}\n",
       "\n",
       "#sk-container-id-1 label.sk-toggleable__label-arrow:hover:before {\n",
       "  color: var(--sklearn-color-text);\n",
       "}\n",
       "\n",
       "/* Toggleable content - dropdown */\n",
       "\n",
       "#sk-container-id-1 div.sk-toggleable__content {\n",
       "  max-height: 0;\n",
       "  max-width: 0;\n",
       "  overflow: hidden;\n",
       "  text-align: left;\n",
       "  /* unfitted */\n",
       "  background-color: var(--sklearn-color-unfitted-level-0);\n",
       "}\n",
       "\n",
       "#sk-container-id-1 div.sk-toggleable__content.fitted {\n",
       "  /* fitted */\n",
       "  background-color: var(--sklearn-color-fitted-level-0);\n",
       "}\n",
       "\n",
       "#sk-container-id-1 div.sk-toggleable__content pre {\n",
       "  margin: 0.2em;\n",
       "  border-radius: 0.25em;\n",
       "  color: var(--sklearn-color-text);\n",
       "  /* unfitted */\n",
       "  background-color: var(--sklearn-color-unfitted-level-0);\n",
       "}\n",
       "\n",
       "#sk-container-id-1 div.sk-toggleable__content.fitted pre {\n",
       "  /* unfitted */\n",
       "  background-color: var(--sklearn-color-fitted-level-0);\n",
       "}\n",
       "\n",
       "#sk-container-id-1 input.sk-toggleable__control:checked~div.sk-toggleable__content {\n",
       "  /* Expand drop-down */\n",
       "  max-height: 200px;\n",
       "  max-width: 100%;\n",
       "  overflow: auto;\n",
       "}\n",
       "\n",
       "#sk-container-id-1 input.sk-toggleable__control:checked~label.sk-toggleable__label-arrow:before {\n",
       "  content: \"▾\";\n",
       "}\n",
       "\n",
       "/* Pipeline/ColumnTransformer-specific style */\n",
       "\n",
       "#sk-container-id-1 div.sk-label input.sk-toggleable__control:checked~label.sk-toggleable__label {\n",
       "  color: var(--sklearn-color-text);\n",
       "  background-color: var(--sklearn-color-unfitted-level-2);\n",
       "}\n",
       "\n",
       "#sk-container-id-1 div.sk-label.fitted input.sk-toggleable__control:checked~label.sk-toggleable__label {\n",
       "  background-color: var(--sklearn-color-fitted-level-2);\n",
       "}\n",
       "\n",
       "/* Estimator-specific style */\n",
       "\n",
       "/* Colorize estimator box */\n",
       "#sk-container-id-1 div.sk-estimator input.sk-toggleable__control:checked~label.sk-toggleable__label {\n",
       "  /* unfitted */\n",
       "  background-color: var(--sklearn-color-unfitted-level-2);\n",
       "}\n",
       "\n",
       "#sk-container-id-1 div.sk-estimator.fitted input.sk-toggleable__control:checked~label.sk-toggleable__label {\n",
       "  /* fitted */\n",
       "  background-color: var(--sklearn-color-fitted-level-2);\n",
       "}\n",
       "\n",
       "#sk-container-id-1 div.sk-label label.sk-toggleable__label,\n",
       "#sk-container-id-1 div.sk-label label {\n",
       "  /* The background is the default theme color */\n",
       "  color: var(--sklearn-color-text-on-default-background);\n",
       "}\n",
       "\n",
       "/* On hover, darken the color of the background */\n",
       "#sk-container-id-1 div.sk-label:hover label.sk-toggleable__label {\n",
       "  color: var(--sklearn-color-text);\n",
       "  background-color: var(--sklearn-color-unfitted-level-2);\n",
       "}\n",
       "\n",
       "/* Label box, darken color on hover, fitted */\n",
       "#sk-container-id-1 div.sk-label.fitted:hover label.sk-toggleable__label.fitted {\n",
       "  color: var(--sklearn-color-text);\n",
       "  background-color: var(--sklearn-color-fitted-level-2);\n",
       "}\n",
       "\n",
       "/* Estimator label */\n",
       "\n",
       "#sk-container-id-1 div.sk-label label {\n",
       "  font-family: monospace;\n",
       "  font-weight: bold;\n",
       "  display: inline-block;\n",
       "  line-height: 1.2em;\n",
       "}\n",
       "\n",
       "#sk-container-id-1 div.sk-label-container {\n",
       "  text-align: center;\n",
       "}\n",
       "\n",
       "/* Estimator-specific */\n",
       "#sk-container-id-1 div.sk-estimator {\n",
       "  font-family: monospace;\n",
       "  border: 1px dotted var(--sklearn-color-border-box);\n",
       "  border-radius: 0.25em;\n",
       "  box-sizing: border-box;\n",
       "  margin-bottom: 0.5em;\n",
       "  /* unfitted */\n",
       "  background-color: var(--sklearn-color-unfitted-level-0);\n",
       "}\n",
       "\n",
       "#sk-container-id-1 div.sk-estimator.fitted {\n",
       "  /* fitted */\n",
       "  background-color: var(--sklearn-color-fitted-level-0);\n",
       "}\n",
       "\n",
       "/* on hover */\n",
       "#sk-container-id-1 div.sk-estimator:hover {\n",
       "  /* unfitted */\n",
       "  background-color: var(--sklearn-color-unfitted-level-2);\n",
       "}\n",
       "\n",
       "#sk-container-id-1 div.sk-estimator.fitted:hover {\n",
       "  /* fitted */\n",
       "  background-color: var(--sklearn-color-fitted-level-2);\n",
       "}\n",
       "\n",
       "/* Specification for estimator info (e.g. \"i\" and \"?\") */\n",
       "\n",
       "/* Common style for \"i\" and \"?\" */\n",
       "\n",
       ".sk-estimator-doc-link,\n",
       "a:link.sk-estimator-doc-link,\n",
       "a:visited.sk-estimator-doc-link {\n",
       "  float: right;\n",
       "  font-size: smaller;\n",
       "  line-height: 1em;\n",
       "  font-family: monospace;\n",
       "  background-color: var(--sklearn-color-background);\n",
       "  border-radius: 1em;\n",
       "  height: 1em;\n",
       "  width: 1em;\n",
       "  text-decoration: none !important;\n",
       "  margin-left: 1ex;\n",
       "  /* unfitted */\n",
       "  border: var(--sklearn-color-unfitted-level-1) 1pt solid;\n",
       "  color: var(--sklearn-color-unfitted-level-1);\n",
       "}\n",
       "\n",
       ".sk-estimator-doc-link.fitted,\n",
       "a:link.sk-estimator-doc-link.fitted,\n",
       "a:visited.sk-estimator-doc-link.fitted {\n",
       "  /* fitted */\n",
       "  border: var(--sklearn-color-fitted-level-1) 1pt solid;\n",
       "  color: var(--sklearn-color-fitted-level-1);\n",
       "}\n",
       "\n",
       "/* On hover */\n",
       "div.sk-estimator:hover .sk-estimator-doc-link:hover,\n",
       ".sk-estimator-doc-link:hover,\n",
       "div.sk-label-container:hover .sk-estimator-doc-link:hover,\n",
       ".sk-estimator-doc-link:hover {\n",
       "  /* unfitted */\n",
       "  background-color: var(--sklearn-color-unfitted-level-3);\n",
       "  color: var(--sklearn-color-background);\n",
       "  text-decoration: none;\n",
       "}\n",
       "\n",
       "div.sk-estimator.fitted:hover .sk-estimator-doc-link.fitted:hover,\n",
       ".sk-estimator-doc-link.fitted:hover,\n",
       "div.sk-label-container:hover .sk-estimator-doc-link.fitted:hover,\n",
       ".sk-estimator-doc-link.fitted:hover {\n",
       "  /* fitted */\n",
       "  background-color: var(--sklearn-color-fitted-level-3);\n",
       "  color: var(--sklearn-color-background);\n",
       "  text-decoration: none;\n",
       "}\n",
       "\n",
       "/* Span, style for the box shown on hovering the info icon */\n",
       ".sk-estimator-doc-link span {\n",
       "  display: none;\n",
       "  z-index: 9999;\n",
       "  position: relative;\n",
       "  font-weight: normal;\n",
       "  right: .2ex;\n",
       "  padding: .5ex;\n",
       "  margin: .5ex;\n",
       "  width: min-content;\n",
       "  min-width: 20ex;\n",
       "  max-width: 50ex;\n",
       "  color: var(--sklearn-color-text);\n",
       "  box-shadow: 2pt 2pt 4pt #999;\n",
       "  /* unfitted */\n",
       "  background: var(--sklearn-color-unfitted-level-0);\n",
       "  border: .5pt solid var(--sklearn-color-unfitted-level-3);\n",
       "}\n",
       "\n",
       ".sk-estimator-doc-link.fitted span {\n",
       "  /* fitted */\n",
       "  background: var(--sklearn-color-fitted-level-0);\n",
       "  border: var(--sklearn-color-fitted-level-3);\n",
       "}\n",
       "\n",
       ".sk-estimator-doc-link:hover span {\n",
       "  display: block;\n",
       "}\n",
       "\n",
       "/* \"?\"-specific style due to the `<a>` HTML tag */\n",
       "\n",
       "#sk-container-id-1 a.estimator_doc_link {\n",
       "  float: right;\n",
       "  font-size: 1rem;\n",
       "  line-height: 1em;\n",
       "  font-family: monospace;\n",
       "  background-color: var(--sklearn-color-background);\n",
       "  border-radius: 1rem;\n",
       "  height: 1rem;\n",
       "  width: 1rem;\n",
       "  text-decoration: none;\n",
       "  /* unfitted */\n",
       "  color: var(--sklearn-color-unfitted-level-1);\n",
       "  border: var(--sklearn-color-unfitted-level-1) 1pt solid;\n",
       "}\n",
       "\n",
       "#sk-container-id-1 a.estimator_doc_link.fitted {\n",
       "  /* fitted */\n",
       "  border: var(--sklearn-color-fitted-level-1) 1pt solid;\n",
       "  color: var(--sklearn-color-fitted-level-1);\n",
       "}\n",
       "\n",
       "/* On hover */\n",
       "#sk-container-id-1 a.estimator_doc_link:hover {\n",
       "  /* unfitted */\n",
       "  background-color: var(--sklearn-color-unfitted-level-3);\n",
       "  color: var(--sklearn-color-background);\n",
       "  text-decoration: none;\n",
       "}\n",
       "\n",
       "#sk-container-id-1 a.estimator_doc_link.fitted:hover {\n",
       "  /* fitted */\n",
       "  background-color: var(--sklearn-color-fitted-level-3);\n",
       "}\n",
       "</style><div id=\"sk-container-id-1\" class=\"sk-top-container\"><div class=\"sk-text-repr-fallback\"><pre>GridSearchCV(cv=10, estimator=GaussianNB(var_smoothing=0.5), n_jobs=-1,\n",
       "             param_grid={&#x27;var_smoothing&#x27;: array([1.00000000e+00, 9.79469667e-01, 9.59360829e-01, 9.39664831e-01,\n",
       "       9.20373200e-01, 9.01477631e-01, 8.82969996e-01, 8.64842328e-01,\n",
       "       8.47086827e-01, 8.29695852e-01, 8.12661920e-01, 7.95977700e-01,\n",
       "       7.79636013e-01, 7.63629826e-01, 7.47952252e-01, 7.32596543e-01,\n",
       "       7.1755...\n",
       "       1.61141428e-09, 1.57833141e-09, 1.54592774e-09, 1.51418933e-09,\n",
       "       1.48310251e-09, 1.45265393e-09, 1.42283046e-09, 1.39361927e-09,\n",
       "       1.36500781e-09, 1.33698374e-09, 1.30953502e-09, 1.28264983e-09,\n",
       "       1.25631660e-09, 1.23052400e-09, 1.20526094e-09, 1.18051653e-09,\n",
       "       1.15628013e-09, 1.13254132e-09, 1.10928986e-09, 1.08651577e-09,\n",
       "       1.06420924e-09, 1.04236067e-09, 1.02096066e-09, 1.00000000e-09])},\n",
       "             verbose=1)</pre><b>In a Jupyter environment, please rerun this cell to show the HTML representation or trust the notebook. <br />On GitHub, the HTML representation is unable to render, please try loading this page with nbviewer.org.</b></div><div class=\"sk-container\" hidden><div class=\"sk-item sk-dashed-wrapped\"><div class=\"sk-label-container\"><div class=\"sk-label fitted sk-toggleable\"><input class=\"sk-toggleable__control sk-hidden--visually\" id=\"sk-estimator-id-1\" type=\"checkbox\" ><label for=\"sk-estimator-id-1\" class=\"sk-toggleable__label fitted sk-toggleable__label-arrow fitted\">&nbsp;&nbsp;GridSearchCV<a class=\"sk-estimator-doc-link fitted\" rel=\"noreferrer\" target=\"_blank\" href=\"https://scikit-learn.org/1.5/modules/generated/sklearn.model_selection.GridSearchCV.html\">?<span>Documentation for GridSearchCV</span></a><span class=\"sk-estimator-doc-link fitted\">i<span>Fitted</span></span></label><div class=\"sk-toggleable__content fitted\"><pre>GridSearchCV(cv=10, estimator=GaussianNB(var_smoothing=0.5), n_jobs=-1,\n",
       "             param_grid={&#x27;var_smoothing&#x27;: array([1.00000000e+00, 9.79469667e-01, 9.59360829e-01, 9.39664831e-01,\n",
       "       9.20373200e-01, 9.01477631e-01, 8.82969996e-01, 8.64842328e-01,\n",
       "       8.47086827e-01, 8.29695852e-01, 8.12661920e-01, 7.95977700e-01,\n",
       "       7.79636013e-01, 7.63629826e-01, 7.47952252e-01, 7.32596543e-01,\n",
       "       7.1755...\n",
       "       1.61141428e-09, 1.57833141e-09, 1.54592774e-09, 1.51418933e-09,\n",
       "       1.48310251e-09, 1.45265393e-09, 1.42283046e-09, 1.39361927e-09,\n",
       "       1.36500781e-09, 1.33698374e-09, 1.30953502e-09, 1.28264983e-09,\n",
       "       1.25631660e-09, 1.23052400e-09, 1.20526094e-09, 1.18051653e-09,\n",
       "       1.15628013e-09, 1.13254132e-09, 1.10928986e-09, 1.08651577e-09,\n",
       "       1.06420924e-09, 1.04236067e-09, 1.02096066e-09, 1.00000000e-09])},\n",
       "             verbose=1)</pre></div> </div></div><div class=\"sk-parallel\"><div class=\"sk-parallel-item\"><div class=\"sk-item\"><div class=\"sk-label-container\"><div class=\"sk-label fitted sk-toggleable\"><input class=\"sk-toggleable__control sk-hidden--visually\" id=\"sk-estimator-id-2\" type=\"checkbox\" ><label for=\"sk-estimator-id-2\" class=\"sk-toggleable__label fitted sk-toggleable__label-arrow fitted\">best_estimator_: GaussianNB</label><div class=\"sk-toggleable__content fitted\"><pre>GaussianNB(var_smoothing=0.12305240043592616)</pre></div> </div></div><div class=\"sk-serial\"><div class=\"sk-item\"><div class=\"sk-estimator fitted sk-toggleable\"><input class=\"sk-toggleable__control sk-hidden--visually\" id=\"sk-estimator-id-3\" type=\"checkbox\" ><label for=\"sk-estimator-id-3\" class=\"sk-toggleable__label fitted sk-toggleable__label-arrow fitted\">&nbsp;GaussianNB<a class=\"sk-estimator-doc-link fitted\" rel=\"noreferrer\" target=\"_blank\" href=\"https://scikit-learn.org/1.5/modules/generated/sklearn.naive_bayes.GaussianNB.html\">?<span>Documentation for GaussianNB</span></a></label><div class=\"sk-toggleable__content fitted\"><pre>GaussianNB(var_smoothing=0.12305240043592616)</pre></div> </div></div></div></div></div></div></div></div></div>"
      ],
      "text/plain": [
       "GridSearchCV(cv=10, estimator=GaussianNB(var_smoothing=0.5), n_jobs=-1,\n",
       "             param_grid={'var_smoothing': array([1.00000000e+00, 9.79469667e-01, 9.59360829e-01, 9.39664831e-01,\n",
       "       9.20373200e-01, 9.01477631e-01, 8.82969996e-01, 8.64842328e-01,\n",
       "       8.47086827e-01, 8.29695852e-01, 8.12661920e-01, 7.95977700e-01,\n",
       "       7.79636013e-01, 7.63629826e-01, 7.47952252e-01, 7.32596543e-01,\n",
       "       7.1755...\n",
       "       1.61141428e-09, 1.57833141e-09, 1.54592774e-09, 1.51418933e-09,\n",
       "       1.48310251e-09, 1.45265393e-09, 1.42283046e-09, 1.39361927e-09,\n",
       "       1.36500781e-09, 1.33698374e-09, 1.30953502e-09, 1.28264983e-09,\n",
       "       1.25631660e-09, 1.23052400e-09, 1.20526094e-09, 1.18051653e-09,\n",
       "       1.15628013e-09, 1.13254132e-09, 1.10928986e-09, 1.08651577e-09,\n",
       "       1.06420924e-09, 1.04236067e-09, 1.02096066e-09, 1.00000000e-09])},\n",
       "             verbose=1)"
      ]
     },
     "execution_count": 83,
     "metadata": {},
     "output_type": "execute_result"
    }
   ],
   "source": [
    "GNB_Grid = GridSearchCV(estimator=GaussianNB(var_smoothing=0.5), \n",
    "                        param_grid=param_grid_nb, \n",
    "                        verbose=1, \n",
    "                        cv=10, \n",
    "                        n_jobs=-1)\n",
    "GNB_Grid.fit(x_train, y_train)"
   ]
  },
  {
   "cell_type": "code",
   "execution_count": 84,
   "id": "e4887cea",
   "metadata": {},
   "outputs": [
    {
     "name": "stdout",
     "output_type": "stream",
     "text": [
      "GaussianNB(var_smoothing=0.12305240043592616)\n"
     ]
    }
   ],
   "source": [
    "print(GNB_Grid.best_estimator_)"
   ]
  },
  {
   "cell_type": "markdown",
   "id": "cdcc4ab1",
   "metadata": {},
   "source": [
    "Now we want to re-evaluate the model on the test data."
   ]
  },
  {
   "cell_type": "code",
   "execution_count": 85,
   "id": "1ff0e5a7",
   "metadata": {},
   "outputs": [],
   "source": [
    "grid_pred = GNB_Grid.predict(x_test)\n",
    "grid_pred_probs = GNB_Grid.predict_proba(x_test) # predicted probability of each class on the test data"
   ]
  },
  {
   "cell_type": "code",
   "execution_count": 86,
   "id": "6360d941",
   "metadata": {},
   "outputs": [
    {
     "name": "stdout",
     "output_type": "stream",
     "text": [
      "\n",
      "f1:\t\t [0.89552239 0.78787879]\n",
      "recall\t\t [0.92307692 0.74285714]\n",
      "precision\t [0.86956522 0.83870968]\n",
      "\n",
      "f1_avg:\t\t 0.8417005879692447\n",
      "recall_avg\t 0.832967032967033\n",
      "precision_avg\t 0.8541374474053296\n",
      "\n",
      "f1_sd:\t\t 0.05382180009045684\n",
      "recall_sd\t 0.09010989010989012\n",
      "precision_sd\t 0.015427769985974726\n",
      "\n",
      "               precision    recall  f1-score   support\n",
      "\n",
      "           0       0.79      0.98      0.88        65\n",
      "           1       0.95      0.51      0.67        35\n",
      "\n",
      "    accuracy                           0.82       100\n",
      "   macro avg       0.87      0.75      0.77       100\n",
      "weighted avg       0.85      0.82      0.80       100\n",
      "\n",
      "0.9665934065934065\n"
     ]
    }
   ],
   "source": [
    "f1 = f1_score(y_test, grid_pred,average=None)\n",
    "recall = recall_score(y_test, grid_pred,average=None)\n",
    "precision = precision_score(y_test, grid_pred,average=None)\n",
    "\n",
    "\n",
    "print('\\nf1:\\t\\t',f1)\n",
    "print('recall\\t\\t',recall)\n",
    "print('precision\\t',precision)\n",
    "\n",
    "print('\\nf1_avg:\\t\\t',f1.mean())\n",
    "print('recall_avg\\t',recall.mean())\n",
    "print('precision_avg\\t',precision.mean())\n",
    "\n",
    "print('\\nf1_sd:\\t\\t',f1.std())\n",
    "print('recall_sd\\t',recall.std())\n",
    "print('precision_sd\\t',precision.std())\n",
    "\n",
    "print('\\n',classification_report(y_test, y_pred))\n",
    "print(roc_auc_score(y_test, grid_pred_probs[:,1]))"
   ]
  },
  {
   "cell_type": "markdown",
   "id": "94211839",
   "metadata": {},
   "source": [
    "Now, these scores are much better!"
   ]
  },
  {
   "cell_type": "markdown",
   "id": "ed890df2",
   "metadata": {},
   "source": [
    "And there you have it! You've now built and tuned your first Bayesian classifer."
   ]
  },
  {
   "cell_type": "markdown",
   "id": "cd194e07",
   "metadata": {},
   "source": [
    "Now you've finished this tutorial, follow the instructions and complete the assessment."
   ]
  }
 ],
 "metadata": {
  "kernelspec": {
   "display_name": "PhD",
   "language": "python",
   "name": "python3"
  },
  "language_info": {
   "codemirror_mode": {
    "name": "ipython",
    "version": 3
   },
   "file_extension": ".py",
   "mimetype": "text/x-python",
   "name": "python",
   "nbconvert_exporter": "python",
   "pygments_lexer": "ipython3",
   "version": "3.12.7"
  }
 },
 "nbformat": 4,
 "nbformat_minor": 5
}
